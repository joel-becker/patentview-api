{
 "cells": [
  {
   "cell_type": "markdown",
   "metadata": {},
   "source": [
    "![Coleridge Initiative Logo](images/CI_horizontal.png)"
   ]
  },
  {
   "cell_type": "markdown",
   "metadata": {},
   "source": [
    "<center>\n",
    "    <span style=\"font-size: 1.5em;\">\n",
    "        <a href='https://www.coleridgeinitiative.org'>Website</a>\n",
    "    </span>\n",
    "</center>\n",
    "\n",
    "Ghani, Rayid, Frauke Kreuter, Julia Lane, Brian Kim, Adrianne Bradford, Alex Engler, Nicolas Guetta Jeanrenaud, Graham Henke, Daniela Hochfellner, Clayton Hunter, Avishek Kumar, Jonathan Morgan, Ekaterina Levitskaya."
   ]
  },
  {
   "cell_type": "markdown",
   "metadata": {},
   "source": [
    "# API Calls with Python"
   ]
  },
  {
   "cell_type": "markdown",
   "metadata": {},
   "source": [
    "APIs (application programming interfaces) are hosted on web servers. When you type www.google.com in your browser's address bar, your computer is actually asking the www.google.com server for a webpage, which it then returns to your browser. APIs work much the same way, except instead of your web browser asking for a webpage, your program asks for data. This data is usually returned in JSON format. \n",
    "\n",
    "To retrieve data, we make a request to a webserver. The server then replies with our data. In Python, we'll use the `requests` library to do this."
   ]
  },
  {
   "cell_type": "markdown",
   "metadata": {},
   "source": [
    "### Python Setup"
   ]
  },
  {
   "cell_type": "code",
   "execution_count": 57,
   "metadata": {},
   "outputs": [],
   "source": [
    "# interacting with websites and web-APIs\n",
    "import requests \n",
    "\n",
    "# data manipulation\n",
    "import pandas as pd \n",
    "\n",
    "# normalize nested JSON files\n",
    "from pandas.io.json import json_normalize"
   ]
  },
  {
   "cell_type": "markdown",
   "metadata": {},
   "source": [
    "## How does the request package work?"
   ]
  },
  {
   "cell_type": "markdown",
   "metadata": {},
   "source": [
    "We first need to understand what information can be accessed from the API. We use an example of the **PatentsView API** (www.patentsview.org) to make the API call and check the information we get. "
   ]
  },
  {
   "cell_type": "markdown",
   "metadata": {},
   "source": [
    "### About PatentsView API"
   ]
  },
  {
   "cell_type": "markdown",
   "metadata": {},
   "source": [
    "The PatentsView platform is built on data derived from the US Patent and Trademark Office (USPTO) to link inventors, their organizations, locations, and overall patenting activity. The PatentsView API provides programmatic access to longitudinal data and metadata on patents, inventors, companies, and geographic locations. \n",
    "\n",
    "To access the API, we use the `request` function. In oder to tell Python what to access we need to specify the url of the API endpoint.\n",
    "\n",
    "PatentsView has several API endpoints. An endpoint is a server route that is used to retrieve different data from the API. You can think of the endpoints as just specifying what types of data you want.Examples of PatentsView API endpoints: http://www.patentsview.org/api/doc.html\n",
    "\n",
    "Many times, we need to request a key from the data provider in order to access an API. For example, if you wanted to access the Twitter API, then you would need to get a Twitter developer account and access token (see https://developer.twitter.com/en/docs/basics/authentication/overview/oauth).\n",
    "Currently no key is necessary to access the PatentsView API. "
   ]
  },
  {
   "cell_type": "markdown",
   "metadata": {},
   "source": [
    "### Making a Request\n",
    "When you ping a website or portal for information this is called making a request. That is exactly what the `requests` library has been designed to do. However, we need to provide a query URL according to the format defined by PatentsView. The details on how to do that is explained at this link: https://www.patentsview.org/api/query-language.html.\n",
    "\n",
    "Following the directions detailed in the link above, let's build our first query URL."
   ]
  },
  {
   "cell_type": "markdown",
   "metadata": {},
   "source": [
    "**Query String Format**\n",
    "\n",
    "The query string is always a single JSON object: **{`<field>`:`<value>`}**, where `<field>` is the name of a database field and `<value>` is the value the field will be compared to for equality (Each API Endpoint section contains a list of the data fields that can be selected for inclusion in output datasets).\n",
    "\n",
    "We use the following base URL for the Patents Endpoint:\n",
    "\n",
    "**Base URL**: `http://www.patentsview.org/api/patents/query?q={criteria}`\n",
    "\n"
   ]
  },
  {
   "cell_type": "markdown",
   "metadata": {},
   "source": [
    "## Task example: Pull patents for Stanford University\n",
    "\n",
    "In this example, we will only pull patents from one organization: Stanford University. Let's go to the Patents Endpoint (http://www.patentsview.org/api/patent.html) and find the appropriate field for the organization's name.\n",
    "\n",
    "The variable that we need is called `\"assignee_organization\"` (organization name, if assignee is organization)\n",
    "\n",
    "> _Note_: **Assignee**: the name of the entity - company, foundation, partnership, holding company or individual - that owns the patent. In this example we are looking at universities (organization-level)."
   ]
  },
  {
   "cell_type": "markdown",
   "metadata": {},
   "source": [
    "We will pull from the API using a step-by-step process:\n",
    "- build the query,\n",
    "- get the response,\n",
    "- check the response code,\n",
    "- get the content,\n",
    "- convert to table.\n",
    "\n",
    "By the end, we should have data about patents that we can work with using the tools we've already learned."
   ]
  },
  {
   "cell_type": "markdown",
   "metadata": {},
   "source": [
    "### Build the URL query \n",
    "\n",
    "Let's build our first URL query by combining the base url with one criterion (name of the `assignee_organization`)\n",
    "\n",
    "**base url**: `http://www.patentsview.org/api/patents/query?` + **criterion**: `q={\"assignee_organization\":stanford university\"}`"
   ]
  },
  {
   "cell_type": "code",
   "execution_count": 58,
   "metadata": {},
   "outputs": [],
   "source": [
    "# Save the URL as a variable.\n",
    "\n",
    "base_url = 'http://www.patentsview.org/api/patents/query?'"
   ]
  },
  {
   "cell_type": "code",
   "execution_count": 59,
   "metadata": {},
   "outputs": [
    {
     "data": {
      "text/plain": [
       "'http://www.patentsview.org/api/patents/query?'"
      ]
     },
     "execution_count": 59,
     "metadata": {},
     "output_type": "execute_result"
    }
   ],
   "source": [
    "base_url"
   ]
  },
  {
   "cell_type": "code",
   "execution_count": 60,
   "metadata": {},
   "outputs": [],
   "source": [
    "# Save our criterion as a variable.\n",
    "\n",
    "criterion = 'q={\"assignee_organization\":\"stanford university\"}'"
   ]
  },
  {
   "cell_type": "code",
   "execution_count": 61,
   "metadata": {},
   "outputs": [
    {
     "data": {
      "text/plain": [
       "'q={\"assignee_organization\":\"stanford university\"}'"
      ]
     },
     "execution_count": 61,
     "metadata": {},
     "output_type": "execute_result"
    }
   ],
   "source": [
    "criterion"
   ]
  },
  {
   "cell_type": "code",
   "execution_count": 62,
   "metadata": {},
   "outputs": [],
   "source": [
    "# Combine the base URL with our criterion to create a finalized URL link.\n",
    "\n",
    "url = base_url + criterion"
   ]
  },
  {
   "cell_type": "code",
   "execution_count": 63,
   "metadata": {},
   "outputs": [
    {
     "data": {
      "text/plain": [
       "'http://www.patentsview.org/api/patents/query?q={\"assignee_organization\":\"stanford university\"}'"
      ]
     },
     "execution_count": 63,
     "metadata": {},
     "output_type": "execute_result"
    }
   ],
   "source": [
    "url"
   ]
  },
  {
   "cell_type": "markdown",
   "metadata": {},
   "source": [
    "### Get the response"
   ]
  },
  {
   "cell_type": "markdown",
   "metadata": {},
   "source": [
    "Now let's get the response using the URL defined above and the `requests` library."
   ]
  },
  {
   "cell_type": "code",
   "execution_count": 64,
   "metadata": {},
   "outputs": [],
   "source": [
    "# Get response from the URL.\n",
    "\n",
    "r = requests.get(url)"
   ]
  },
  {
   "cell_type": "markdown",
   "metadata": {},
   "source": [
    "### Check the response code\n",
    "\n",
    "Before you can do anything with a website or URL in Python, it’s a good idea to check the current status code of said portal.\n",
    "\n",
    "The following are the response codes for the PatentsView API:\n",
    "\n",
    "`200` - the query parameters are all valid; the results will be in the body of the response.\n",
    "\n",
    "`400` - the query parameters are not valid, typically either because they are not in valid JSON format, or a specified field or value is not valid; the “status reason” in the header will contain the error message.\n",
    "\n",
    "`500` -  there is an internal error with the processing of the query; the “status reason” in the header will contain the error message."
   ]
  },
  {
   "cell_type": "markdown",
   "metadata": {},
   "source": [
    "Let's check the status of our response."
   ]
  },
  {
   "cell_type": "code",
   "execution_count": 65,
   "metadata": {},
   "outputs": [
    {
     "data": {
      "text/plain": [
       "200"
      ]
     },
     "execution_count": 65,
     "metadata": {},
     "output_type": "execute_result"
    }
   ],
   "source": [
    "r.status_code  # Check the status code"
   ]
  },
  {
   "cell_type": "markdown",
   "metadata": {},
   "source": [
    "We are good to go. Now let's get the content."
   ]
  },
  {
   "cell_type": "markdown",
   "metadata": {},
   "source": [
    "### Get the content\n",
    "After a web server returns a response, you can collect the content you need by converting it into a JSON format."
   ]
  },
  {
   "cell_type": "markdown",
   "metadata": {},
   "source": [
    "JSON is a way to encode data structures like lists and dictionaries to strings that ensures that they are easily readable by machines. JSON is the primary format in which data is passed back and forth to APIs, and most API servers will send their responses in JSON format."
   ]
  },
  {
   "cell_type": "code",
   "execution_count": 66,
   "metadata": {},
   "outputs": [],
   "source": [
    "response = r.json()  # Convert response to JSON format"
   ]
  },
  {
   "cell_type": "markdown",
   "metadata": {},
   "source": [
    "By default, we get information on `patent_id`, `patent_number`, and `patent_title`. At the end of the JSON you will see how many results are returned (variable `count`) and the total number of patents found (variable `total_patent_count`)."
   ]
  },
  {
   "cell_type": "code",
   "execution_count": 67,
   "metadata": {},
   "outputs": [
    {
     "data": {
      "text/plain": [
       "{'patents': [{'patent_id': '4200770',\n",
       "   'patent_number': '4200770',\n",
       "   'patent_title': 'Cryptographic apparatus and method'},\n",
       "  {'patent_id': '4214918',\n",
       "   'patent_number': '4214918',\n",
       "   'patent_title': 'Method of forming polycrystalline semiconductor interconnections, resistors and contacts by applying radiation beam'},\n",
       "  {'patent_id': '4233671',\n",
       "   'patent_number': '4233671',\n",
       "   'patent_title': 'Read only memory and integrated circuit and method of programming by laser means'},\n",
       "  {'patent_id': '4234352',\n",
       "   'patent_number': '4234352',\n",
       "   'patent_title': 'Thermophotovoltaic converter and cell for use therein'},\n",
       "  {'patent_id': '4325611',\n",
       "   'patent_number': '4325611',\n",
       "   'patent_title': 'Electrochromic material and electro-optical display using same'},\n",
       "  {'patent_id': '4379697',\n",
       "   'patent_number': '4379697',\n",
       "   'patent_title': 'Stimulator array'},\n",
       "  {'patent_id': '4380072',\n",
       "   'patent_number': '4380072',\n",
       "   'patent_title': 'XUV Laser and method'},\n",
       "  {'patent_id': '4404068',\n",
       "   'patent_number': '4404068',\n",
       "   'patent_title': 'Solid state method for synthesis reactions'},\n",
       "  {'patent_id': '4442206',\n",
       "   'patent_number': '4442206',\n",
       "   'patent_title': 'Method of using isotropic, porous-wall polymeric membrane, hollow-fibers for culture of microbes'},\n",
       "  {'patent_id': '4471647',\n",
       "   'patent_number': '4471647',\n",
       "   'patent_title': 'Gas chromatography system and detector and method'},\n",
       "  {'patent_id': '4491760',\n",
       "   'patent_number': '4491760',\n",
       "   'patent_title': 'Force sensing polymer piezoelectric transducer array'},\n",
       "  {'patent_id': '4503533',\n",
       "   'patent_number': '4503533',\n",
       "   'patent_title': 'Local area communication network utilizing a round robin access scheme with improved channel utilization'},\n",
       "  {'patent_id': '4662379',\n",
       "   'patent_number': '4662379',\n",
       "   'patent_title': 'Coronary artery imaging system using gated tomosynthesis'},\n",
       "  {'patent_id': '4665523',\n",
       "   'patent_number': '4665523',\n",
       "   'patent_title': 'Method and means for error detection and correction in high speed data transmission codes'},\n",
       "  {'patent_id': '4665610',\n",
       "   'patent_number': '4665610',\n",
       "   'patent_title': 'Method of making a semiconductor transducer having multiple level diaphragm structure'},\n",
       "  {'patent_id': '4666308',\n",
       "   'patent_number': '4666308',\n",
       "   'patent_title': 'Method and apparatus for non-destructive testing using acoustic-optic laser probe'},\n",
       "  {'patent_id': '4672319',\n",
       "   'patent_number': '4672319',\n",
       "   'patent_title': 'Multiple pulse excitation in NMR imaging'},\n",
       "  {'patent_id': '4674824',\n",
       "   'patent_number': '4674824',\n",
       "   'patent_title': 'System for enhancement of optical features'},\n",
       "  {'patent_id': '4681449',\n",
       "   'patent_number': '4681449',\n",
       "   'patent_title': 'High speed testing of electronic circuits by electro-optic sampling'},\n",
       "  {'patent_id': '4699513',\n",
       "   'patent_number': '4699513',\n",
       "   'patent_title': 'Distributed sensor and method using coherence multiplexing of fiber-optic interferometric sensors'},\n",
       "  {'patent_id': '4700150',\n",
       "   'patent_number': '4700150',\n",
       "   'patent_title': 'External laser frequency stabilizer'},\n",
       "  {'patent_id': '4701006',\n",
       "   'patent_number': '4701006',\n",
       "   'patent_title': 'Optical-digital hologram recording'},\n",
       "  {'patent_id': '4707136',\n",
       "   'patent_number': '4707136',\n",
       "   'patent_title': 'Gated fiber optic rotation sensor with linearized scale factor'},\n",
       "  {'patent_id': '4718424',\n",
       "   'patent_number': '4718424',\n",
       "   'patent_title': 'NMR imaging of blood flow by moment variation of magnetic gradients'},\n",
       "  {'patent_id': '4728192',\n",
       "   'patent_number': '4728192',\n",
       "   'patent_title': 'Gated fiber optic rotation sensor with extended dynamic range'}],\n",
       " 'count': 25,\n",
       " 'total_patent_count': 143}"
      ]
     },
     "execution_count": 67,
     "metadata": {},
     "output_type": "execute_result"
    }
   ],
   "source": [
    "response  # View JSON"
   ]
  },
  {
   "cell_type": "markdown",
   "metadata": {},
   "source": [
    "JSON file has a dictionary structure (dictionaries are identified by curly backets `{}`), which includes keys and values (e.g. in `patent_id`:`4200770`, `patent_id` is a key and `4200770` is a value of that key)."
   ]
  },
  {
   "cell_type": "code",
   "execution_count": 68,
   "metadata": {},
   "outputs": [
    {
     "data": {
      "text/plain": [
       "dict"
      ]
     },
     "execution_count": 68,
     "metadata": {},
     "output_type": "execute_result"
    }
   ],
   "source": [
    "type(response)  # Check the type of response variable"
   ]
  },
  {
   "cell_type": "markdown",
   "metadata": {},
   "source": [
    "We can check how many keys this JSON has by using `.keys()` function:"
   ]
  },
  {
   "cell_type": "code",
   "execution_count": 69,
   "metadata": {},
   "outputs": [
    {
     "data": {
      "text/plain": [
       "dict_keys(['patents', 'count', 'total_patent_count'])"
      ]
     },
     "execution_count": 69,
     "metadata": {},
     "output_type": "execute_result"
    }
   ],
   "source": [
    "response.keys()"
   ]
  },
  {
   "cell_type": "markdown",
   "metadata": {},
   "source": [
    "Let's check the values of each key:"
   ]
  },
  {
   "cell_type": "code",
   "execution_count": 70,
   "metadata": {},
   "outputs": [
    {
     "data": {
      "text/plain": [
       "25"
      ]
     },
     "execution_count": 70,
     "metadata": {},
     "output_type": "execute_result"
    }
   ],
   "source": [
    "response['count']"
   ]
  },
  {
   "cell_type": "code",
   "execution_count": 71,
   "metadata": {},
   "outputs": [
    {
     "data": {
      "text/plain": [
       "143"
      ]
     },
     "execution_count": 71,
     "metadata": {},
     "output_type": "execute_result"
    }
   ],
   "source": [
    "response['total_patent_count']"
   ]
  },
  {
   "cell_type": "code",
   "execution_count": 72,
   "metadata": {},
   "outputs": [
    {
     "data": {
      "text/plain": [
       "[{'patent_id': '4200770',\n",
       "  'patent_number': '4200770',\n",
       "  'patent_title': 'Cryptographic apparatus and method'},\n",
       " {'patent_id': '4214918',\n",
       "  'patent_number': '4214918',\n",
       "  'patent_title': 'Method of forming polycrystalline semiconductor interconnections, resistors and contacts by applying radiation beam'},\n",
       " {'patent_id': '4233671',\n",
       "  'patent_number': '4233671',\n",
       "  'patent_title': 'Read only memory and integrated circuit and method of programming by laser means'},\n",
       " {'patent_id': '4234352',\n",
       "  'patent_number': '4234352',\n",
       "  'patent_title': 'Thermophotovoltaic converter and cell for use therein'},\n",
       " {'patent_id': '4325611',\n",
       "  'patent_number': '4325611',\n",
       "  'patent_title': 'Electrochromic material and electro-optical display using same'},\n",
       " {'patent_id': '4379697',\n",
       "  'patent_number': '4379697',\n",
       "  'patent_title': 'Stimulator array'},\n",
       " {'patent_id': '4380072',\n",
       "  'patent_number': '4380072',\n",
       "  'patent_title': 'XUV Laser and method'},\n",
       " {'patent_id': '4404068',\n",
       "  'patent_number': '4404068',\n",
       "  'patent_title': 'Solid state method for synthesis reactions'},\n",
       " {'patent_id': '4442206',\n",
       "  'patent_number': '4442206',\n",
       "  'patent_title': 'Method of using isotropic, porous-wall polymeric membrane, hollow-fibers for culture of microbes'},\n",
       " {'patent_id': '4471647',\n",
       "  'patent_number': '4471647',\n",
       "  'patent_title': 'Gas chromatography system and detector and method'},\n",
       " {'patent_id': '4491760',\n",
       "  'patent_number': '4491760',\n",
       "  'patent_title': 'Force sensing polymer piezoelectric transducer array'},\n",
       " {'patent_id': '4503533',\n",
       "  'patent_number': '4503533',\n",
       "  'patent_title': 'Local area communication network utilizing a round robin access scheme with improved channel utilization'},\n",
       " {'patent_id': '4662379',\n",
       "  'patent_number': '4662379',\n",
       "  'patent_title': 'Coronary artery imaging system using gated tomosynthesis'},\n",
       " {'patent_id': '4665523',\n",
       "  'patent_number': '4665523',\n",
       "  'patent_title': 'Method and means for error detection and correction in high speed data transmission codes'},\n",
       " {'patent_id': '4665610',\n",
       "  'patent_number': '4665610',\n",
       "  'patent_title': 'Method of making a semiconductor transducer having multiple level diaphragm structure'},\n",
       " {'patent_id': '4666308',\n",
       "  'patent_number': '4666308',\n",
       "  'patent_title': 'Method and apparatus for non-destructive testing using acoustic-optic laser probe'},\n",
       " {'patent_id': '4672319',\n",
       "  'patent_number': '4672319',\n",
       "  'patent_title': 'Multiple pulse excitation in NMR imaging'},\n",
       " {'patent_id': '4674824',\n",
       "  'patent_number': '4674824',\n",
       "  'patent_title': 'System for enhancement of optical features'},\n",
       " {'patent_id': '4681449',\n",
       "  'patent_number': '4681449',\n",
       "  'patent_title': 'High speed testing of electronic circuits by electro-optic sampling'},\n",
       " {'patent_id': '4699513',\n",
       "  'patent_number': '4699513',\n",
       "  'patent_title': 'Distributed sensor and method using coherence multiplexing of fiber-optic interferometric sensors'},\n",
       " {'patent_id': '4700150',\n",
       "  'patent_number': '4700150',\n",
       "  'patent_title': 'External laser frequency stabilizer'},\n",
       " {'patent_id': '4701006',\n",
       "  'patent_number': '4701006',\n",
       "  'patent_title': 'Optical-digital hologram recording'},\n",
       " {'patent_id': '4707136',\n",
       "  'patent_number': '4707136',\n",
       "  'patent_title': 'Gated fiber optic rotation sensor with linearized scale factor'},\n",
       " {'patent_id': '4718424',\n",
       "  'patent_number': '4718424',\n",
       "  'patent_title': 'NMR imaging of blood flow by moment variation of magnetic gradients'},\n",
       " {'patent_id': '4728192',\n",
       "  'patent_number': '4728192',\n",
       "  'patent_title': 'Gated fiber optic rotation sensor with extended dynamic range'}]"
      ]
     },
     "execution_count": 72,
     "metadata": {},
     "output_type": "execute_result"
    }
   ],
   "source": [
    "response['patents']"
   ]
  },
  {
   "cell_type": "markdown",
   "metadata": {},
   "source": [
    "The `patents` key is interesting. It contains not just a single value, but a list of values (lists are identified by square brackets `[]`)."
   ]
  },
  {
   "cell_type": "markdown",
   "metadata": {},
   "source": [
    "Dictionaries also can be hierarchical, or nested: the level `patents` contains a list (lists are identified by square brackets `[]`) with multiple elements in it."
   ]
  },
  {
   "cell_type": "code",
   "execution_count": 73,
   "metadata": {},
   "outputs": [
    {
     "data": {
      "text/plain": [
       "list"
      ]
     },
     "execution_count": 73,
     "metadata": {},
     "output_type": "execute_result"
    }
   ],
   "source": [
    "type(response['patents'])  "
   ]
  },
  {
   "cell_type": "code",
   "execution_count": 74,
   "metadata": {},
   "outputs": [
    {
     "data": {
      "text/plain": [
       "25"
      ]
     },
     "execution_count": 74,
     "metadata": {},
     "output_type": "execute_result"
    }
   ],
   "source": [
    "len(response['patents'])  # Check how many elements the first level contains"
   ]
  },
  {
   "cell_type": "code",
   "execution_count": 75,
   "metadata": {},
   "outputs": [
    {
     "data": {
      "text/plain": [
       "[{'patent_id': '4200770',\n",
       "  'patent_number': '4200770',\n",
       "  'patent_title': 'Cryptographic apparatus and method'},\n",
       " {'patent_id': '4214918',\n",
       "  'patent_number': '4214918',\n",
       "  'patent_title': 'Method of forming polycrystalline semiconductor interconnections, resistors and contacts by applying radiation beam'},\n",
       " {'patent_id': '4233671',\n",
       "  'patent_number': '4233671',\n",
       "  'patent_title': 'Read only memory and integrated circuit and method of programming by laser means'},\n",
       " {'patent_id': '4234352',\n",
       "  'patent_number': '4234352',\n",
       "  'patent_title': 'Thermophotovoltaic converter and cell for use therein'},\n",
       " {'patent_id': '4325611',\n",
       "  'patent_number': '4325611',\n",
       "  'patent_title': 'Electrochromic material and electro-optical display using same'},\n",
       " {'patent_id': '4379697',\n",
       "  'patent_number': '4379697',\n",
       "  'patent_title': 'Stimulator array'},\n",
       " {'patent_id': '4380072',\n",
       "  'patent_number': '4380072',\n",
       "  'patent_title': 'XUV Laser and method'},\n",
       " {'patent_id': '4404068',\n",
       "  'patent_number': '4404068',\n",
       "  'patent_title': 'Solid state method for synthesis reactions'},\n",
       " {'patent_id': '4442206',\n",
       "  'patent_number': '4442206',\n",
       "  'patent_title': 'Method of using isotropic, porous-wall polymeric membrane, hollow-fibers for culture of microbes'},\n",
       " {'patent_id': '4471647',\n",
       "  'patent_number': '4471647',\n",
       "  'patent_title': 'Gas chromatography system and detector and method'},\n",
       " {'patent_id': '4491760',\n",
       "  'patent_number': '4491760',\n",
       "  'patent_title': 'Force sensing polymer piezoelectric transducer array'},\n",
       " {'patent_id': '4503533',\n",
       "  'patent_number': '4503533',\n",
       "  'patent_title': 'Local area communication network utilizing a round robin access scheme with improved channel utilization'},\n",
       " {'patent_id': '4662379',\n",
       "  'patent_number': '4662379',\n",
       "  'patent_title': 'Coronary artery imaging system using gated tomosynthesis'},\n",
       " {'patent_id': '4665523',\n",
       "  'patent_number': '4665523',\n",
       "  'patent_title': 'Method and means for error detection and correction in high speed data transmission codes'},\n",
       " {'patent_id': '4665610',\n",
       "  'patent_number': '4665610',\n",
       "  'patent_title': 'Method of making a semiconductor transducer having multiple level diaphragm structure'},\n",
       " {'patent_id': '4666308',\n",
       "  'patent_number': '4666308',\n",
       "  'patent_title': 'Method and apparatus for non-destructive testing using acoustic-optic laser probe'},\n",
       " {'patent_id': '4672319',\n",
       "  'patent_number': '4672319',\n",
       "  'patent_title': 'Multiple pulse excitation in NMR imaging'},\n",
       " {'patent_id': '4674824',\n",
       "  'patent_number': '4674824',\n",
       "  'patent_title': 'System for enhancement of optical features'},\n",
       " {'patent_id': '4681449',\n",
       "  'patent_number': '4681449',\n",
       "  'patent_title': 'High speed testing of electronic circuits by electro-optic sampling'},\n",
       " {'patent_id': '4699513',\n",
       "  'patent_number': '4699513',\n",
       "  'patent_title': 'Distributed sensor and method using coherence multiplexing of fiber-optic interferometric sensors'},\n",
       " {'patent_id': '4700150',\n",
       "  'patent_number': '4700150',\n",
       "  'patent_title': 'External laser frequency stabilizer'},\n",
       " {'patent_id': '4701006',\n",
       "  'patent_number': '4701006',\n",
       "  'patent_title': 'Optical-digital hologram recording'},\n",
       " {'patent_id': '4707136',\n",
       "  'patent_number': '4707136',\n",
       "  'patent_title': 'Gated fiber optic rotation sensor with linearized scale factor'},\n",
       " {'patent_id': '4718424',\n",
       "  'patent_number': '4718424',\n",
       "  'patent_title': 'NMR imaging of blood flow by moment variation of magnetic gradients'},\n",
       " {'patent_id': '4728192',\n",
       "  'patent_number': '4728192',\n",
       "  'patent_title': 'Gated fiber optic rotation sensor with extended dynamic range'}]"
      ]
     },
     "execution_count": 75,
     "metadata": {},
     "output_type": "execute_result"
    }
   ],
   "source": [
    "response['patents']"
   ]
  },
  {
   "cell_type": "markdown",
   "metadata": {},
   "source": [
    "The key `patents` contains 25 elements, or, as we can see, mini-dictionaries (identified by the curly brackets `{}`), with their own keys and values. Every element in a list is a patent with its ID, number, and title."
   ]
  },
  {
   "cell_type": "markdown",
   "metadata": {},
   "source": [
    "Every patent's information can be accessed by calling:"
   ]
  },
  {
   "cell_type": "code",
   "execution_count": 76,
   "metadata": {},
   "outputs": [
    {
     "data": {
      "text/plain": [
       "{'patent_id': '4200770',\n",
       " 'patent_number': '4200770',\n",
       " 'patent_title': 'Cryptographic apparatus and method'}"
      ]
     },
     "execution_count": 76,
     "metadata": {},
     "output_type": "execute_result"
    }
   ],
   "source": [
    "response['patents'][0]  # Show the first patent only"
   ]
  },
  {
   "cell_type": "code",
   "execution_count": 77,
   "metadata": {},
   "outputs": [
    {
     "data": {
      "text/plain": [
       "{'patent_id': '4214918',\n",
       " 'patent_number': '4214918',\n",
       " 'patent_title': 'Method of forming polycrystalline semiconductor interconnections, resistors and contacts by applying radiation beam'}"
      ]
     },
     "execution_count": 77,
     "metadata": {},
     "output_type": "execute_result"
    }
   ],
   "source": [
    "response['patents'][1]  # Show the second patent only"
   ]
  },
  {
   "cell_type": "markdown",
   "metadata": {},
   "source": [
    "### Convert to a dataframe"
   ]
  },
  {
   "cell_type": "markdown",
   "metadata": {},
   "source": [
    "We can convert JSON information on patents into a table format very easily. "
   ]
  },
  {
   "cell_type": "code",
   "execution_count": 78,
   "metadata": {
    "scrolled": true
   },
   "outputs": [
    {
     "data": {
      "text/html": [
       "<div>\n",
       "<style scoped>\n",
       "    .dataframe tbody tr th:only-of-type {\n",
       "        vertical-align: middle;\n",
       "    }\n",
       "\n",
       "    .dataframe tbody tr th {\n",
       "        vertical-align: top;\n",
       "    }\n",
       "\n",
       "    .dataframe thead th {\n",
       "        text-align: right;\n",
       "    }\n",
       "</style>\n",
       "<table border=\"1\" class=\"dataframe\">\n",
       "  <thead>\n",
       "    <tr style=\"text-align: right;\">\n",
       "      <th></th>\n",
       "      <th>patent_id</th>\n",
       "      <th>patent_number</th>\n",
       "      <th>patent_title</th>\n",
       "    </tr>\n",
       "  </thead>\n",
       "  <tbody>\n",
       "    <tr>\n",
       "      <td>0</td>\n",
       "      <td>4200770</td>\n",
       "      <td>4200770</td>\n",
       "      <td>Cryptographic apparatus and method</td>\n",
       "    </tr>\n",
       "    <tr>\n",
       "      <td>1</td>\n",
       "      <td>4214918</td>\n",
       "      <td>4214918</td>\n",
       "      <td>Method of forming polycrystalline semiconducto...</td>\n",
       "    </tr>\n",
       "    <tr>\n",
       "      <td>2</td>\n",
       "      <td>4233671</td>\n",
       "      <td>4233671</td>\n",
       "      <td>Read only memory and integrated circuit and me...</td>\n",
       "    </tr>\n",
       "    <tr>\n",
       "      <td>3</td>\n",
       "      <td>4234352</td>\n",
       "      <td>4234352</td>\n",
       "      <td>Thermophotovoltaic converter and cell for use ...</td>\n",
       "    </tr>\n",
       "    <tr>\n",
       "      <td>4</td>\n",
       "      <td>4325611</td>\n",
       "      <td>4325611</td>\n",
       "      <td>Electrochromic material and electro-optical di...</td>\n",
       "    </tr>\n",
       "    <tr>\n",
       "      <td>5</td>\n",
       "      <td>4379697</td>\n",
       "      <td>4379697</td>\n",
       "      <td>Stimulator array</td>\n",
       "    </tr>\n",
       "    <tr>\n",
       "      <td>6</td>\n",
       "      <td>4380072</td>\n",
       "      <td>4380072</td>\n",
       "      <td>XUV Laser and method</td>\n",
       "    </tr>\n",
       "    <tr>\n",
       "      <td>7</td>\n",
       "      <td>4404068</td>\n",
       "      <td>4404068</td>\n",
       "      <td>Solid state method for synthesis reactions</td>\n",
       "    </tr>\n",
       "    <tr>\n",
       "      <td>8</td>\n",
       "      <td>4442206</td>\n",
       "      <td>4442206</td>\n",
       "      <td>Method of using isotropic, porous-wall polymer...</td>\n",
       "    </tr>\n",
       "    <tr>\n",
       "      <td>9</td>\n",
       "      <td>4471647</td>\n",
       "      <td>4471647</td>\n",
       "      <td>Gas chromatography system and detector and method</td>\n",
       "    </tr>\n",
       "    <tr>\n",
       "      <td>10</td>\n",
       "      <td>4491760</td>\n",
       "      <td>4491760</td>\n",
       "      <td>Force sensing polymer piezoelectric transducer...</td>\n",
       "    </tr>\n",
       "    <tr>\n",
       "      <td>11</td>\n",
       "      <td>4503533</td>\n",
       "      <td>4503533</td>\n",
       "      <td>Local area communication network utilizing a r...</td>\n",
       "    </tr>\n",
       "    <tr>\n",
       "      <td>12</td>\n",
       "      <td>4662379</td>\n",
       "      <td>4662379</td>\n",
       "      <td>Coronary artery imaging system using gated tom...</td>\n",
       "    </tr>\n",
       "    <tr>\n",
       "      <td>13</td>\n",
       "      <td>4665523</td>\n",
       "      <td>4665523</td>\n",
       "      <td>Method and means for error detection and corre...</td>\n",
       "    </tr>\n",
       "    <tr>\n",
       "      <td>14</td>\n",
       "      <td>4665610</td>\n",
       "      <td>4665610</td>\n",
       "      <td>Method of making a semiconductor transducer ha...</td>\n",
       "    </tr>\n",
       "    <tr>\n",
       "      <td>15</td>\n",
       "      <td>4666308</td>\n",
       "      <td>4666308</td>\n",
       "      <td>Method and apparatus for non-destructive testi...</td>\n",
       "    </tr>\n",
       "    <tr>\n",
       "      <td>16</td>\n",
       "      <td>4672319</td>\n",
       "      <td>4672319</td>\n",
       "      <td>Multiple pulse excitation in NMR imaging</td>\n",
       "    </tr>\n",
       "    <tr>\n",
       "      <td>17</td>\n",
       "      <td>4674824</td>\n",
       "      <td>4674824</td>\n",
       "      <td>System for enhancement of optical features</td>\n",
       "    </tr>\n",
       "    <tr>\n",
       "      <td>18</td>\n",
       "      <td>4681449</td>\n",
       "      <td>4681449</td>\n",
       "      <td>High speed testing of electronic circuits by e...</td>\n",
       "    </tr>\n",
       "    <tr>\n",
       "      <td>19</td>\n",
       "      <td>4699513</td>\n",
       "      <td>4699513</td>\n",
       "      <td>Distributed sensor and method using coherence ...</td>\n",
       "    </tr>\n",
       "    <tr>\n",
       "      <td>20</td>\n",
       "      <td>4700150</td>\n",
       "      <td>4700150</td>\n",
       "      <td>External laser frequency stabilizer</td>\n",
       "    </tr>\n",
       "    <tr>\n",
       "      <td>21</td>\n",
       "      <td>4701006</td>\n",
       "      <td>4701006</td>\n",
       "      <td>Optical-digital hologram recording</td>\n",
       "    </tr>\n",
       "    <tr>\n",
       "      <td>22</td>\n",
       "      <td>4707136</td>\n",
       "      <td>4707136</td>\n",
       "      <td>Gated fiber optic rotation sensor with lineari...</td>\n",
       "    </tr>\n",
       "    <tr>\n",
       "      <td>23</td>\n",
       "      <td>4718424</td>\n",
       "      <td>4718424</td>\n",
       "      <td>NMR imaging of blood flow by moment variation ...</td>\n",
       "    </tr>\n",
       "    <tr>\n",
       "      <td>24</td>\n",
       "      <td>4728192</td>\n",
       "      <td>4728192</td>\n",
       "      <td>Gated fiber optic rotation sensor with extende...</td>\n",
       "    </tr>\n",
       "  </tbody>\n",
       "</table>\n",
       "</div>"
      ],
      "text/plain": [
       "   patent_id patent_number                                       patent_title\n",
       "0    4200770       4200770                 Cryptographic apparatus and method\n",
       "1    4214918       4214918  Method of forming polycrystalline semiconducto...\n",
       "2    4233671       4233671  Read only memory and integrated circuit and me...\n",
       "3    4234352       4234352  Thermophotovoltaic converter and cell for use ...\n",
       "4    4325611       4325611  Electrochromic material and electro-optical di...\n",
       "5    4379697       4379697                                   Stimulator array\n",
       "6    4380072       4380072                               XUV Laser and method\n",
       "7    4404068       4404068         Solid state method for synthesis reactions\n",
       "8    4442206       4442206  Method of using isotropic, porous-wall polymer...\n",
       "9    4471647       4471647  Gas chromatography system and detector and method\n",
       "10   4491760       4491760  Force sensing polymer piezoelectric transducer...\n",
       "11   4503533       4503533  Local area communication network utilizing a r...\n",
       "12   4662379       4662379  Coronary artery imaging system using gated tom...\n",
       "13   4665523       4665523  Method and means for error detection and corre...\n",
       "14   4665610       4665610  Method of making a semiconductor transducer ha...\n",
       "15   4666308       4666308  Method and apparatus for non-destructive testi...\n",
       "16   4672319       4672319           Multiple pulse excitation in NMR imaging\n",
       "17   4674824       4674824         System for enhancement of optical features\n",
       "18   4681449       4681449  High speed testing of electronic circuits by e...\n",
       "19   4699513       4699513  Distributed sensor and method using coherence ...\n",
       "20   4700150       4700150                External laser frequency stabilizer\n",
       "21   4701006       4701006                 Optical-digital hologram recording\n",
       "22   4707136       4707136  Gated fiber optic rotation sensor with lineari...\n",
       "23   4718424       4718424  NMR imaging of blood flow by moment variation ...\n",
       "24   4728192       4728192  Gated fiber optic rotation sensor with extende..."
      ]
     },
     "execution_count": 78,
     "metadata": {},
     "output_type": "execute_result"
    }
   ],
   "source": [
    "df = pd.DataFrame(response['patents'])  # Convert to pandas dataframe\n",
    "df"
   ]
  },
  {
   "cell_type": "markdown",
   "metadata": {},
   "source": [
    "### <span style=\"color:red\">Checkpoint 1: Pull patent data for another university</span>"
   ]
  },
  {
   "cell_type": "markdown",
   "metadata": {},
   "source": [
    "Now try pulling patent data for another university (e.g. Georgetown University):\n",
    "- build a query URL;\n",
    "- make a request;\n",
    "- get the response in JSON format;\n",
    "- note the total number of patents;\n",
    "- convert the JSON to a dataframe."
   ]
  },
  {
   "cell_type": "code",
   "execution_count": 79,
   "metadata": {},
   "outputs": [],
   "source": [
    "criterion_harvard = 'q={\"assignee_organization\":\"harvard university\"}'\n",
    "url_harvard = base_url + criterion_harvard\n",
    "r_harvard = requests.get(url_harvard)"
   ]
  },
  {
   "cell_type": "code",
   "execution_count": 80,
   "metadata": {},
   "outputs": [
    {
     "data": {
      "text/plain": [
       "200"
      ]
     },
     "execution_count": 80,
     "metadata": {},
     "output_type": "execute_result"
    }
   ],
   "source": [
    "r_harvard.status_code"
   ]
  },
  {
   "cell_type": "code",
   "execution_count": 81,
   "metadata": {},
   "outputs": [],
   "source": [
    "response_harvard = r_harvard.json()  # Convert response to JSON format"
   ]
  },
  {
   "cell_type": "code",
   "execution_count": 82,
   "metadata": {},
   "outputs": [
    {
     "data": {
      "text/plain": [
       "10"
      ]
     },
     "execution_count": 82,
     "metadata": {},
     "output_type": "execute_result"
    }
   ],
   "source": [
    "# number patents\n",
    "len(response_harvard['patents'])"
   ]
  },
  {
   "cell_type": "code",
   "execution_count": 83,
   "metadata": {},
   "outputs": [
    {
     "data": {
      "text/html": [
       "<div>\n",
       "<style scoped>\n",
       "    .dataframe tbody tr th:only-of-type {\n",
       "        vertical-align: middle;\n",
       "    }\n",
       "\n",
       "    .dataframe tbody tr th {\n",
       "        vertical-align: top;\n",
       "    }\n",
       "\n",
       "    .dataframe thead th {\n",
       "        text-align: right;\n",
       "    }\n",
       "</style>\n",
       "<table border=\"1\" class=\"dataframe\">\n",
       "  <thead>\n",
       "    <tr style=\"text-align: right;\">\n",
       "      <th></th>\n",
       "      <th>patent_id</th>\n",
       "      <th>patent_number</th>\n",
       "      <th>patent_title</th>\n",
       "    </tr>\n",
       "  </thead>\n",
       "  <tbody>\n",
       "    <tr>\n",
       "      <td>0</td>\n",
       "      <td>4665171</td>\n",
       "      <td>4665171</td>\n",
       "      <td>Process and intermediates for .beta.-lactam an...</td>\n",
       "    </tr>\n",
       "    <tr>\n",
       "      <td>1</td>\n",
       "      <td>4673737</td>\n",
       "      <td>4673737</td>\n",
       "      <td>7-acylamino-(or 7-amino)-3-trifluoromethylsulf...</td>\n",
       "    </tr>\n",
       "    <tr>\n",
       "      <td>2</td>\n",
       "      <td>4900548</td>\n",
       "      <td>4900548</td>\n",
       "      <td>Use of diethylcarbamazine to enhance antigen-a...</td>\n",
       "    </tr>\n",
       "    <tr>\n",
       "      <td>3</td>\n",
       "      <td>5317452</td>\n",
       "      <td>5317452</td>\n",
       "      <td>Aligning and attaching a lens to a source of e...</td>\n",
       "    </tr>\n",
       "    <tr>\n",
       "      <td>4</td>\n",
       "      <td>6042835</td>\n",
       "      <td>6042835</td>\n",
       "      <td>Prototype FelV isolates for use in disease mod...</td>\n",
       "    </tr>\n",
       "    <tr>\n",
       "      <td>5</td>\n",
       "      <td>6197515</td>\n",
       "      <td>6197515</td>\n",
       "      <td>Molecular recognition at surfaces derivatized ...</td>\n",
       "    </tr>\n",
       "    <tr>\n",
       "      <td>6</td>\n",
       "      <td>6211370</td>\n",
       "      <td>6211370</td>\n",
       "      <td>Asymmetric cycloaddition reactions</td>\n",
       "    </tr>\n",
       "    <tr>\n",
       "      <td>7</td>\n",
       "      <td>6248564</td>\n",
       "      <td>6248564</td>\n",
       "      <td>Mutant MHC class I molecules</td>\n",
       "    </tr>\n",
       "    <tr>\n",
       "      <td>8</td>\n",
       "      <td>7323346</td>\n",
       "      <td>7323346</td>\n",
       "      <td>Screening for gestational disorders</td>\n",
       "    </tr>\n",
       "    <tr>\n",
       "      <td>9</td>\n",
       "      <td>7772543</td>\n",
       "      <td>7772543</td>\n",
       "      <td>System and method for processing nanowires wit...</td>\n",
       "    </tr>\n",
       "  </tbody>\n",
       "</table>\n",
       "</div>"
      ],
      "text/plain": [
       "  patent_id patent_number                                       patent_title\n",
       "0   4665171       4665171  Process and intermediates for .beta.-lactam an...\n",
       "1   4673737       4673737  7-acylamino-(or 7-amino)-3-trifluoromethylsulf...\n",
       "2   4900548       4900548  Use of diethylcarbamazine to enhance antigen-a...\n",
       "3   5317452       5317452  Aligning and attaching a lens to a source of e...\n",
       "4   6042835       6042835  Prototype FelV isolates for use in disease mod...\n",
       "5   6197515       6197515  Molecular recognition at surfaces derivatized ...\n",
       "6   6211370       6211370                 Asymmetric cycloaddition reactions\n",
       "7   6248564       6248564                       Mutant MHC class I molecules\n",
       "8   7323346       7323346                Screening for gestational disorders\n",
       "9   7772543       7772543  System and method for processing nanowires wit..."
      ]
     },
     "execution_count": 83,
     "metadata": {},
     "output_type": "execute_result"
    }
   ],
   "source": [
    "df_harvard = pd.DataFrame(response_harvard['patents'])  # Convert to pandas dataframe\n",
    "df_harvard"
   ]
  },
  {
   "cell_type": "markdown",
   "metadata": {},
   "source": [
    "## Adding to the query other fields of interest"
   ]
  },
  {
   "cell_type": "markdown",
   "metadata": {},
   "source": [
    "Above we were able to pull data with the default information on the patents (`patent_id`, `patent_number`, `patent_title`). \n",
    "\n",
    "It might be useful to know additional information on patents, such as patent classification and application date.\n",
    "\n",
    "Let's look for those variables in the API Endpoint (http://www.patentsview.org/api/patent.html), and add those fields to our query.\n",
    "\n",
    "We will use the USPC classification (United States Patent Classification) variable called `uspc_mainclass_title`.\n",
    "\n",
    "The application date varible is called `app_date`."
   ]
  },
  {
   "cell_type": "markdown",
   "metadata": {},
   "source": [
    "To the URL created above, we will add the fields parameter: `&f=[\"patent_id\", \"patent_title\",\"uspc_mainclass_title\",\"app_date\"]`."
   ]
  },
  {
   "cell_type": "code",
   "execution_count": 84,
   "metadata": {},
   "outputs": [
    {
     "data": {
      "text/plain": [
       "'http://www.patentsview.org/api/patents/query?q={\"assignee_organization\":\"stanford university\"}'"
      ]
     },
     "execution_count": 84,
     "metadata": {},
     "output_type": "execute_result"
    }
   ],
   "source": [
    "url  # Above we defined a URL with the university name"
   ]
  },
  {
   "cell_type": "markdown",
   "metadata": {},
   "source": [
    "Now let's add other fields."
   ]
  },
  {
   "cell_type": "code",
   "execution_count": 85,
   "metadata": {},
   "outputs": [],
   "source": [
    "url_fields = url + '&f=[\"patent_id\", \"patent_title\",\"uspc_mainclass_title\",\"app_date\"]'"
   ]
  },
  {
   "cell_type": "markdown",
   "metadata": {},
   "source": [
    "Let's check the URL."
   ]
  },
  {
   "cell_type": "code",
   "execution_count": 86,
   "metadata": {},
   "outputs": [
    {
     "data": {
      "text/plain": [
       "'http://www.patentsview.org/api/patents/query?q={\"assignee_organization\":\"stanford university\"}&f=[\"patent_id\", \"patent_title\",\"uspc_mainclass_title\",\"app_date\"]'"
      ]
     },
     "execution_count": 86,
     "metadata": {},
     "output_type": "execute_result"
    }
   ],
   "source": [
    "url_fields"
   ]
  },
  {
   "cell_type": "code",
   "execution_count": 87,
   "metadata": {},
   "outputs": [
    {
     "data": {
      "text/plain": [
       "200"
      ]
     },
     "execution_count": 87,
     "metadata": {},
     "output_type": "execute_result"
    }
   ],
   "source": [
    "r = requests.get(url_fields)  # Get response from the URL\n",
    "r.status_code  # Check the status code"
   ]
  },
  {
   "cell_type": "code",
   "execution_count": 88,
   "metadata": {},
   "outputs": [],
   "source": [
    "response = r.json()  # Convert response to JSON format"
   ]
  },
  {
   "cell_type": "code",
   "execution_count": 89,
   "metadata": {},
   "outputs": [
    {
     "data": {
      "text/plain": [
       "{'patents': [{'patent_id': '4200770',\n",
       "   'patent_title': 'Cryptographic apparatus and method',\n",
       "   'applications': [{'app_date': '1977-09-06', 'app_id': '05/830754'}],\n",
       "   'uspcs': [{'uspc_mainclass_title': 'Cryptography'},\n",
       "    {'uspc_mainclass_title': 'Electrical computers and digital processing systems:  support'}]},\n",
       "  {'patent_id': '4214918',\n",
       "   'patent_title': 'Method of forming polycrystalline semiconductor interconnections, resistors and contacts by applying radiation beam',\n",
       "   'applications': [{'app_date': '1978-10-12', 'app_id': '05/950828'}],\n",
       "   'uspcs': [{'uspc_mainclass_title': 'Metal treatment'},\n",
       "    {'uspc_mainclass_title': 'Electric heating'},\n",
       "    {'uspc_mainclass_title': 'Active solid-state devices (e.g., transistors, solid-state diodes)'},\n",
       "    {'uspc_mainclass_title': 'Coating processes'},\n",
       "    {'uspc_mainclass_title': 'Semiconductor device manufacturing: process'}]},\n",
       "  {'patent_id': '4233671',\n",
       "   'patent_title': 'Read only memory and integrated circuit and method of programming by laser means',\n",
       "   'applications': [{'app_date': '1979-01-05', 'app_id': '06/001360'}],\n",
       "   'uspcs': [{'uspc_mainclass_title': 'Active solid-state devices (e.g., transistors, solid-state diodes)'},\n",
       "    {'uspc_mainclass_title': 'Miscellaneous active electrical nonlinear devices, circuits, and systems'},\n",
       "    {'uspc_mainclass_title': 'Static information storage and retrieval'},\n",
       "    {'uspc_mainclass_title': 'Semiconductor device manufacturing: process'}]},\n",
       "  {'patent_id': '4234352',\n",
       "   'patent_title': 'Thermophotovoltaic converter and cell for use therein',\n",
       "   'applications': [{'app_date': '1978-07-26', 'app_id': '05/928103'}],\n",
       "   'uspcs': [{'uspc_mainclass_title': 'Batteries:  thermoelectric and photoelectric'},\n",
       "    {'uspc_mainclass_title': 'Active solid-state devices (e.g., transistors, solid-state diodes)'}]},\n",
       "  {'patent_id': '4325611',\n",
       "   'patent_title': 'Electrochromic material and electro-optical display using same',\n",
       "   'applications': [{'app_date': '1979-12-26', 'app_id': '06/106547'}],\n",
       "   'uspcs': [{'uspc_mainclass_title': 'Compositions'},\n",
       "    {'uspc_mainclass_title': 'Optical: systems and elements'}]},\n",
       "  {'patent_id': '4379697',\n",
       "   'patent_title': 'Stimulator array',\n",
       "   'applications': [{'app_date': '1981-10-16', 'app_id': '06/312094'}],\n",
       "   'uspcs': [{'uspc_mainclass_title': 'Communications:  electrical'},\n",
       "    {'uspc_mainclass_title': 'Education and demonstration'}]},\n",
       "  {'patent_id': '4380072',\n",
       "   'patent_title': 'XUV Laser and method',\n",
       "   'applications': [{'app_date': '1980-12-22', 'app_id': '06/218781'}],\n",
       "   'uspcs': [{'uspc_mainclass_title': 'Coherent light generators'}]},\n",
       "  {'patent_id': '4404068',\n",
       "   'patent_title': 'Solid state method for synthesis reactions',\n",
       "   'applications': [{'app_date': '1981-04-29', 'app_id': '06/258656'}],\n",
       "   'uspcs': [{'uspc_mainclass_title': 'Chemistry:  electrical and wave energy'},\n",
       "    {'uspc_mainclass_title': 'Electrolysis:  processes, compositions used therein, and methods of preparing the compositions'},\n",
       "    {'uspc_mainclass_title': 'Chemistry of hydrocarbon compounds'}]},\n",
       "  {'patent_id': '4442206',\n",
       "   'patent_title': 'Method of using isotropic, porous-wall polymeric membrane, hollow-fibers for culture of microbes',\n",
       "   'applications': [{'app_date': '1983-05-04', 'app_id': '06/489609'}],\n",
       "   'uspcs': [{'uspc_mainclass_title': 'Chemistry: molecular biology and microbiology'},\n",
       "    {'uspc_mainclass_title': 'Chemistry:  natural resins or derivatives; peptides or proteins; lignins or reaction products thereof'}]},\n",
       "  {'patent_id': '4471647',\n",
       "   'patent_title': 'Gas chromatography system and detector and method',\n",
       "   'applications': [{'app_date': '1982-03-22', 'app_id': '06/360414'}],\n",
       "   'uspcs': [{'uspc_mainclass_title': 'Electrical resistors'},\n",
       "    {'uspc_mainclass_title': 'Thermal measuring and testing'},\n",
       "    {'uspc_mainclass_title': 'Measuring and testing'}]},\n",
       "  {'patent_id': '4491760',\n",
       "   'patent_title': 'Force sensing polymer piezoelectric transducer array',\n",
       "   'applications': [{'app_date': '1983-03-29', 'app_id': '06/480025'}],\n",
       "   'uspcs': [{'uspc_mainclass_title': 'Electrical generator or motor structure'},\n",
       "    {'uspc_mainclass_title': 'Measuring and testing'}]},\n",
       "  {'patent_id': '4503533',\n",
       "   'patent_title': 'Local area communication network utilizing a round robin access scheme with improved channel utilization',\n",
       "   'applications': [{'app_date': '1981-08-20', 'app_id': '06/294745'}],\n",
       "   'uspcs': [{'uspc_mainclass_title': 'Multiplex communications'}]},\n",
       "  {'patent_id': '4662379',\n",
       "   'patent_title': 'Coronary artery imaging system using gated tomosynthesis',\n",
       "   'applications': [{'app_date': '1986-08-27', 'app_id': '06/902086'}],\n",
       "   'uspcs': [{'uspc_mainclass_title': 'Television'},\n",
       "    {'uspc_mainclass_title': 'X-ray or gamma ray systems or devices'},\n",
       "    {'uspc_mainclass_title': 'Surgery'}]},\n",
       "  {'patent_id': '4665523',\n",
       "   'patent_title': 'Method and means for error detection and correction in high speed data transmission codes',\n",
       "   'applications': [{'app_date': '1984-02-15', 'app_id': '06/580470'}],\n",
       "   'uspcs': [{'uspc_mainclass_title': 'Error detection/correction and fault detection/recovery'}]},\n",
       "  {'patent_id': '4665610',\n",
       "   'patent_title': 'Method of making a semiconductor transducer having multiple level diaphragm structure',\n",
       "   'applications': [{'app_date': '1985-04-22', 'app_id': '06/725984'}],\n",
       "   'uspcs': [{'uspc_mainclass_title': 'Metal treatment'},\n",
       "    {'uspc_mainclass_title': 'Active solid-state devices (e.g., transistors, solid-state diodes)'},\n",
       "    {'uspc_mainclass_title': 'Semiconductor device manufacturing: process'},\n",
       "    {'uspc_mainclass_title': 'Measuring and testing'}]},\n",
       "  {'patent_id': '4666308',\n",
       "   'patent_title': 'Method and apparatus for non-destructive testing using acoustic-optic laser probe',\n",
       "   'applications': [{'app_date': '1984-10-30', 'app_id': '06/666354'}],\n",
       "   'uspcs': [{'uspc_mainclass_title': 'Optics:  measuring and testing'},\n",
       "    {'uspc_mainclass_title': 'Optical: systems and elements'}]},\n",
       "  {'patent_id': '4672319',\n",
       "   'patent_title': 'Multiple pulse excitation in NMR imaging',\n",
       "   'applications': [{'app_date': '1984-09-19', 'app_id': '06/652139'}],\n",
       "   'uspcs': [{'uspc_mainclass_title': 'Electricity:  measuring and testing'}]},\n",
       "  {'patent_id': '4674824',\n",
       "   'patent_title': 'System for enhancement of optical features',\n",
       "   'applications': [{'app_date': '1985-06-14', 'app_id': '06/745312'}],\n",
       "   'uspcs': [{'uspc_mainclass_title': 'Optical: systems and elements'}]},\n",
       "  {'patent_id': '4681449',\n",
       "   'patent_title': 'High speed testing of electronic circuits by electro-optic sampling',\n",
       "   'applications': [{'app_date': '1984-09-07', 'app_id': '06/648456'}],\n",
       "   'uspcs': [{'uspc_mainclass_title': 'Electricity:  measuring and testing'},\n",
       "    {'uspc_mainclass_title': 'Optics:  measuring and testing'}]},\n",
       "  {'patent_id': '4699513',\n",
       "   'patent_title': 'Distributed sensor and method using coherence multiplexing of fiber-optic interferometric sensors',\n",
       "   'applications': [{'app_date': '1985-05-28', 'app_id': '06/738678'}],\n",
       "   'uspcs': [{'uspc_mainclass_title': 'Radiant energy'},\n",
       "    {'uspc_mainclass_title': 'Optics:  measuring and testing'},\n",
       "    {'uspc_mainclass_title': 'Electronic funds transfer'}]},\n",
       "  {'patent_id': '4700150',\n",
       "   'patent_title': 'External laser frequency stabilizer',\n",
       "   'applications': [{'app_date': '1985-06-14', 'app_id': '06/745309'}],\n",
       "   'uspcs': [{'uspc_mainclass_title': 'Optical: systems and elements'},\n",
       "    {'uspc_mainclass_title': 'Coherent light generators'}]},\n",
       "  {'patent_id': '4701006',\n",
       "   'patent_title': 'Optical-digital hologram recording',\n",
       "   'applications': [{'app_date': '1985-02-20', 'app_id': '06/703521'}],\n",
       "   'uspcs': [{'uspc_mainclass_title': 'Optical: systems and elements'}]},\n",
       "  {'patent_id': '4707136',\n",
       "   'patent_title': 'Gated fiber optic rotation sensor with linearized scale factor',\n",
       "   'applications': [{'app_date': '1984-02-17', 'app_id': '06/581303'}],\n",
       "   'uspcs': [{'uspc_mainclass_title': 'Optics:  measuring and testing'}]},\n",
       "  {'patent_id': '4718424',\n",
       "   'patent_title': 'NMR imaging of blood flow by moment variation of magnetic gradients',\n",
       "   'applications': [{'app_date': '1986-08-07', 'app_id': '06/894318'}],\n",
       "   'uspcs': [{'uspc_mainclass_title': 'Electricity:  measuring and testing'},\n",
       "    {'uspc_mainclass_title': 'Surgery'}]},\n",
       "  {'patent_id': '4728192',\n",
       "   'patent_title': 'Gated fiber optic rotation sensor with extended dynamic range',\n",
       "   'applications': [{'app_date': '1984-02-17', 'app_id': '06/581304'}],\n",
       "   'uspcs': [{'uspc_mainclass_title': 'Optics:  measuring and testing'}]}],\n",
       " 'count': 25,\n",
       " 'total_patent_count': 143}"
      ]
     },
     "execution_count": 89,
     "metadata": {},
     "output_type": "execute_result"
    }
   ],
   "source": [
    "response  # View JSON"
   ]
  },
  {
   "cell_type": "markdown",
   "metadata": {},
   "source": [
    "For complex nested JSON files, let's try using the `json_normalize` function in `pandas` (https://pandas.pydata.org/pandas-docs/stable/reference/api/pandas.io.json.json_normalize.html)."
   ]
  },
  {
   "cell_type": "code",
   "execution_count": 90,
   "metadata": {},
   "outputs": [
    {
     "data": {
      "text/html": [
       "<div>\n",
       "<style scoped>\n",
       "    .dataframe tbody tr th:only-of-type {\n",
       "        vertical-align: middle;\n",
       "    }\n",
       "\n",
       "    .dataframe tbody tr th {\n",
       "        vertical-align: top;\n",
       "    }\n",
       "\n",
       "    .dataframe thead th {\n",
       "        text-align: right;\n",
       "    }\n",
       "</style>\n",
       "<table border=\"1\" class=\"dataframe\">\n",
       "  <thead>\n",
       "    <tr style=\"text-align: right;\">\n",
       "      <th></th>\n",
       "      <th>patents</th>\n",
       "      <th>count</th>\n",
       "      <th>total_patent_count</th>\n",
       "    </tr>\n",
       "  </thead>\n",
       "  <tbody>\n",
       "    <tr>\n",
       "      <td>0</td>\n",
       "      <td>[{'patent_id': '4200770', 'patent_title': 'Cry...</td>\n",
       "      <td>25</td>\n",
       "      <td>143</td>\n",
       "    </tr>\n",
       "  </tbody>\n",
       "</table>\n",
       "</div>"
      ],
      "text/plain": [
       "                                             patents  count  \\\n",
       "0  [{'patent_id': '4200770', 'patent_title': 'Cry...     25   \n",
       "\n",
       "   total_patent_count  \n",
       "0                 143  "
      ]
     },
     "execution_count": 90,
     "metadata": {},
     "output_type": "execute_result"
    }
   ],
   "source": [
    "\"\"\"If we just apply the function to the response, it will create a column for each key.\"\"\"\n",
    "json_normalize(response)  "
   ]
  },
  {
   "cell_type": "markdown",
   "metadata": {},
   "source": [
    "We want to break down the `patents` key further. Let's apply the function to `response['patents']`."
   ]
  },
  {
   "cell_type": "code",
   "execution_count": 91,
   "metadata": {},
   "outputs": [
    {
     "data": {
      "text/html": [
       "<div>\n",
       "<style scoped>\n",
       "    .dataframe tbody tr th:only-of-type {\n",
       "        vertical-align: middle;\n",
       "    }\n",
       "\n",
       "    .dataframe tbody tr th {\n",
       "        vertical-align: top;\n",
       "    }\n",
       "\n",
       "    .dataframe thead th {\n",
       "        text-align: right;\n",
       "    }\n",
       "</style>\n",
       "<table border=\"1\" class=\"dataframe\">\n",
       "  <thead>\n",
       "    <tr style=\"text-align: right;\">\n",
       "      <th></th>\n",
       "      <th>patent_id</th>\n",
       "      <th>patent_title</th>\n",
       "      <th>applications</th>\n",
       "      <th>uspcs</th>\n",
       "    </tr>\n",
       "  </thead>\n",
       "  <tbody>\n",
       "    <tr>\n",
       "      <td>0</td>\n",
       "      <td>4200770</td>\n",
       "      <td>Cryptographic apparatus and method</td>\n",
       "      <td>[{'app_date': '1977-09-06', 'app_id': '05/8307...</td>\n",
       "      <td>[{'uspc_mainclass_title': 'Cryptography'}, {'u...</td>\n",
       "    </tr>\n",
       "    <tr>\n",
       "      <td>1</td>\n",
       "      <td>4214918</td>\n",
       "      <td>Method of forming polycrystalline semiconducto...</td>\n",
       "      <td>[{'app_date': '1978-10-12', 'app_id': '05/9508...</td>\n",
       "      <td>[{'uspc_mainclass_title': 'Metal treatment'}, ...</td>\n",
       "    </tr>\n",
       "    <tr>\n",
       "      <td>2</td>\n",
       "      <td>4233671</td>\n",
       "      <td>Read only memory and integrated circuit and me...</td>\n",
       "      <td>[{'app_date': '1979-01-05', 'app_id': '06/0013...</td>\n",
       "      <td>[{'uspc_mainclass_title': 'Active solid-state ...</td>\n",
       "    </tr>\n",
       "    <tr>\n",
       "      <td>3</td>\n",
       "      <td>4234352</td>\n",
       "      <td>Thermophotovoltaic converter and cell for use ...</td>\n",
       "      <td>[{'app_date': '1978-07-26', 'app_id': '05/9281...</td>\n",
       "      <td>[{'uspc_mainclass_title': 'Batteries:  thermoe...</td>\n",
       "    </tr>\n",
       "    <tr>\n",
       "      <td>4</td>\n",
       "      <td>4325611</td>\n",
       "      <td>Electrochromic material and electro-optical di...</td>\n",
       "      <td>[{'app_date': '1979-12-26', 'app_id': '06/1065...</td>\n",
       "      <td>[{'uspc_mainclass_title': 'Compositions'}, {'u...</td>\n",
       "    </tr>\n",
       "  </tbody>\n",
       "</table>\n",
       "</div>"
      ],
      "text/plain": [
       "  patent_id                                       patent_title  \\\n",
       "0   4200770                 Cryptographic apparatus and method   \n",
       "1   4214918  Method of forming polycrystalline semiconducto...   \n",
       "2   4233671  Read only memory and integrated circuit and me...   \n",
       "3   4234352  Thermophotovoltaic converter and cell for use ...   \n",
       "4   4325611  Electrochromic material and electro-optical di...   \n",
       "\n",
       "                                        applications  \\\n",
       "0  [{'app_date': '1977-09-06', 'app_id': '05/8307...   \n",
       "1  [{'app_date': '1978-10-12', 'app_id': '05/9508...   \n",
       "2  [{'app_date': '1979-01-05', 'app_id': '06/0013...   \n",
       "3  [{'app_date': '1978-07-26', 'app_id': '05/9281...   \n",
       "4  [{'app_date': '1979-12-26', 'app_id': '06/1065...   \n",
       "\n",
       "                                               uspcs  \n",
       "0  [{'uspc_mainclass_title': 'Cryptography'}, {'u...  \n",
       "1  [{'uspc_mainclass_title': 'Metal treatment'}, ...  \n",
       "2  [{'uspc_mainclass_title': 'Active solid-state ...  \n",
       "3  [{'uspc_mainclass_title': 'Batteries:  thermoe...  \n",
       "4  [{'uspc_mainclass_title': 'Compositions'}, {'u...  "
      ]
     },
     "execution_count": 91,
     "metadata": {},
     "output_type": "execute_result"
    }
   ],
   "source": [
    "json_normalize(response['patents']).head()"
   ]
  },
  {
   "cell_type": "markdown",
   "metadata": {},
   "source": [
    "Much better. We can now see the `patent_id`, `patent_title`, but we still need to \n",
    "break down `applications` and `uspcs` further. For that, we will specify the `record_path`."
   ]
  },
  {
   "cell_type": "code",
   "execution_count": 92,
   "metadata": {},
   "outputs": [
    {
     "data": {
      "text/html": [
       "<div>\n",
       "<style scoped>\n",
       "    .dataframe tbody tr th:only-of-type {\n",
       "        vertical-align: middle;\n",
       "    }\n",
       "\n",
       "    .dataframe tbody tr th {\n",
       "        vertical-align: top;\n",
       "    }\n",
       "\n",
       "    .dataframe thead th {\n",
       "        text-align: right;\n",
       "    }\n",
       "</style>\n",
       "<table border=\"1\" class=\"dataframe\">\n",
       "  <thead>\n",
       "    <tr style=\"text-align: right;\">\n",
       "      <th></th>\n",
       "      <th>app_date</th>\n",
       "      <th>app_id</th>\n",
       "    </tr>\n",
       "  </thead>\n",
       "  <tbody>\n",
       "    <tr>\n",
       "      <td>0</td>\n",
       "      <td>1977-09-06</td>\n",
       "      <td>05/830754</td>\n",
       "    </tr>\n",
       "    <tr>\n",
       "      <td>1</td>\n",
       "      <td>1978-10-12</td>\n",
       "      <td>05/950828</td>\n",
       "    </tr>\n",
       "    <tr>\n",
       "      <td>2</td>\n",
       "      <td>1979-01-05</td>\n",
       "      <td>06/001360</td>\n",
       "    </tr>\n",
       "    <tr>\n",
       "      <td>3</td>\n",
       "      <td>1978-07-26</td>\n",
       "      <td>05/928103</td>\n",
       "    </tr>\n",
       "    <tr>\n",
       "      <td>4</td>\n",
       "      <td>1979-12-26</td>\n",
       "      <td>06/106547</td>\n",
       "    </tr>\n",
       "  </tbody>\n",
       "</table>\n",
       "</div>"
      ],
      "text/plain": [
       "     app_date     app_id\n",
       "0  1977-09-06  05/830754\n",
       "1  1978-10-12  05/950828\n",
       "2  1979-01-05  06/001360\n",
       "3  1978-07-26  05/928103\n",
       "4  1979-12-26  06/106547"
      ]
     },
     "execution_count": 92,
     "metadata": {},
     "output_type": "execute_result"
    }
   ],
   "source": [
    "# First, specify the record path for the applications\n",
    "json_normalize(response['patents'], record_path='applications').head()"
   ]
  },
  {
   "cell_type": "markdown",
   "metadata": {},
   "source": [
    "It shows us the values of the `applications` key, but we also want to know the associated `patent_id` and `patent_title`. We can specify those variables using the `meta` argument."
   ]
  },
  {
   "cell_type": "code",
   "execution_count": 93,
   "metadata": {},
   "outputs": [
    {
     "data": {
      "text/html": [
       "<div>\n",
       "<style scoped>\n",
       "    .dataframe tbody tr th:only-of-type {\n",
       "        vertical-align: middle;\n",
       "    }\n",
       "\n",
       "    .dataframe tbody tr th {\n",
       "        vertical-align: top;\n",
       "    }\n",
       "\n",
       "    .dataframe thead th {\n",
       "        text-align: right;\n",
       "    }\n",
       "</style>\n",
       "<table border=\"1\" class=\"dataframe\">\n",
       "  <thead>\n",
       "    <tr style=\"text-align: right;\">\n",
       "      <th></th>\n",
       "      <th>app_date</th>\n",
       "      <th>app_id</th>\n",
       "      <th>patent_id</th>\n",
       "      <th>patent_title</th>\n",
       "    </tr>\n",
       "  </thead>\n",
       "  <tbody>\n",
       "    <tr>\n",
       "      <td>0</td>\n",
       "      <td>1977-09-06</td>\n",
       "      <td>05/830754</td>\n",
       "      <td>4200770</td>\n",
       "      <td>Cryptographic apparatus and method</td>\n",
       "    </tr>\n",
       "    <tr>\n",
       "      <td>1</td>\n",
       "      <td>1978-10-12</td>\n",
       "      <td>05/950828</td>\n",
       "      <td>4214918</td>\n",
       "      <td>Method of forming polycrystalline semiconducto...</td>\n",
       "    </tr>\n",
       "    <tr>\n",
       "      <td>2</td>\n",
       "      <td>1979-01-05</td>\n",
       "      <td>06/001360</td>\n",
       "      <td>4233671</td>\n",
       "      <td>Read only memory and integrated circuit and me...</td>\n",
       "    </tr>\n",
       "    <tr>\n",
       "      <td>3</td>\n",
       "      <td>1978-07-26</td>\n",
       "      <td>05/928103</td>\n",
       "      <td>4234352</td>\n",
       "      <td>Thermophotovoltaic converter and cell for use ...</td>\n",
       "    </tr>\n",
       "    <tr>\n",
       "      <td>4</td>\n",
       "      <td>1979-12-26</td>\n",
       "      <td>06/106547</td>\n",
       "      <td>4325611</td>\n",
       "      <td>Electrochromic material and electro-optical di...</td>\n",
       "    </tr>\n",
       "  </tbody>\n",
       "</table>\n",
       "</div>"
      ],
      "text/plain": [
       "     app_date     app_id patent_id  \\\n",
       "0  1977-09-06  05/830754   4200770   \n",
       "1  1978-10-12  05/950828   4214918   \n",
       "2  1979-01-05  06/001360   4233671   \n",
       "3  1978-07-26  05/928103   4234352   \n",
       "4  1979-12-26  06/106547   4325611   \n",
       "\n",
       "                                        patent_title  \n",
       "0                 Cryptographic apparatus and method  \n",
       "1  Method of forming polycrystalline semiconducto...  \n",
       "2  Read only memory and integrated circuit and me...  \n",
       "3  Thermophotovoltaic converter and cell for use ...  \n",
       "4  Electrochromic material and electro-optical di...  "
      ]
     },
     "execution_count": 93,
     "metadata": {},
     "output_type": "execute_result"
    }
   ],
   "source": [
    "json_normalize(response['patents'], record_path='applications', meta=['patent_id','patent_title']).head()"
   ]
  },
  {
   "cell_type": "markdown",
   "metadata": {},
   "source": [
    "This looks good. Let's save these results to a dataframe."
   ]
  },
  {
   "cell_type": "code",
   "execution_count": 94,
   "metadata": {},
   "outputs": [],
   "source": [
    "patent_app_date = json_normalize(response['patents'], record_path='applications', meta=['patent_id','patent_title'])"
   ]
  },
  {
   "cell_type": "code",
   "execution_count": 95,
   "metadata": {},
   "outputs": [
    {
     "data": {
      "text/html": [
       "<div>\n",
       "<style scoped>\n",
       "    .dataframe tbody tr th:only-of-type {\n",
       "        vertical-align: middle;\n",
       "    }\n",
       "\n",
       "    .dataframe tbody tr th {\n",
       "        vertical-align: top;\n",
       "    }\n",
       "\n",
       "    .dataframe thead th {\n",
       "        text-align: right;\n",
       "    }\n",
       "</style>\n",
       "<table border=\"1\" class=\"dataframe\">\n",
       "  <thead>\n",
       "    <tr style=\"text-align: right;\">\n",
       "      <th></th>\n",
       "      <th>app_date</th>\n",
       "      <th>app_id</th>\n",
       "      <th>patent_id</th>\n",
       "      <th>patent_title</th>\n",
       "    </tr>\n",
       "  </thead>\n",
       "  <tbody>\n",
       "    <tr>\n",
       "      <td>0</td>\n",
       "      <td>1977-09-06</td>\n",
       "      <td>05/830754</td>\n",
       "      <td>4200770</td>\n",
       "      <td>Cryptographic apparatus and method</td>\n",
       "    </tr>\n",
       "    <tr>\n",
       "      <td>1</td>\n",
       "      <td>1978-10-12</td>\n",
       "      <td>05/950828</td>\n",
       "      <td>4214918</td>\n",
       "      <td>Method of forming polycrystalline semiconducto...</td>\n",
       "    </tr>\n",
       "    <tr>\n",
       "      <td>2</td>\n",
       "      <td>1979-01-05</td>\n",
       "      <td>06/001360</td>\n",
       "      <td>4233671</td>\n",
       "      <td>Read only memory and integrated circuit and me...</td>\n",
       "    </tr>\n",
       "    <tr>\n",
       "      <td>3</td>\n",
       "      <td>1978-07-26</td>\n",
       "      <td>05/928103</td>\n",
       "      <td>4234352</td>\n",
       "      <td>Thermophotovoltaic converter and cell for use ...</td>\n",
       "    </tr>\n",
       "    <tr>\n",
       "      <td>4</td>\n",
       "      <td>1979-12-26</td>\n",
       "      <td>06/106547</td>\n",
       "      <td>4325611</td>\n",
       "      <td>Electrochromic material and electro-optical di...</td>\n",
       "    </tr>\n",
       "  </tbody>\n",
       "</table>\n",
       "</div>"
      ],
      "text/plain": [
       "     app_date     app_id patent_id  \\\n",
       "0  1977-09-06  05/830754   4200770   \n",
       "1  1978-10-12  05/950828   4214918   \n",
       "2  1979-01-05  06/001360   4233671   \n",
       "3  1978-07-26  05/928103   4234352   \n",
       "4  1979-12-26  06/106547   4325611   \n",
       "\n",
       "                                        patent_title  \n",
       "0                 Cryptographic apparatus and method  \n",
       "1  Method of forming polycrystalline semiconducto...  \n",
       "2  Read only memory and integrated circuit and me...  \n",
       "3  Thermophotovoltaic converter and cell for use ...  \n",
       "4  Electrochromic material and electro-optical di...  "
      ]
     },
     "execution_count": 95,
     "metadata": {},
     "output_type": "execute_result"
    }
   ],
   "source": [
    "patent_app_date.head()"
   ]
  },
  {
   "cell_type": "markdown",
   "metadata": {},
   "source": [
    "Now let's repeat the process for the `uspcs` key and save it into another dataframe."
   ]
  },
  {
   "cell_type": "code",
   "execution_count": 96,
   "metadata": {},
   "outputs": [
    {
     "data": {
      "text/html": [
       "<div>\n",
       "<style scoped>\n",
       "    .dataframe tbody tr th:only-of-type {\n",
       "        vertical-align: middle;\n",
       "    }\n",
       "\n",
       "    .dataframe tbody tr th {\n",
       "        vertical-align: top;\n",
       "    }\n",
       "\n",
       "    .dataframe thead th {\n",
       "        text-align: right;\n",
       "    }\n",
       "</style>\n",
       "<table border=\"1\" class=\"dataframe\">\n",
       "  <thead>\n",
       "    <tr style=\"text-align: right;\">\n",
       "      <th></th>\n",
       "      <th>uspc_mainclass_title</th>\n",
       "      <th>patent_id</th>\n",
       "      <th>patent_title</th>\n",
       "    </tr>\n",
       "  </thead>\n",
       "  <tbody>\n",
       "    <tr>\n",
       "      <td>0</td>\n",
       "      <td>Cryptography</td>\n",
       "      <td>4200770</td>\n",
       "      <td>Cryptographic apparatus and method</td>\n",
       "    </tr>\n",
       "    <tr>\n",
       "      <td>1</td>\n",
       "      <td>Electrical computers and digital processing sy...</td>\n",
       "      <td>4200770</td>\n",
       "      <td>Cryptographic apparatus and method</td>\n",
       "    </tr>\n",
       "    <tr>\n",
       "      <td>2</td>\n",
       "      <td>Metal treatment</td>\n",
       "      <td>4214918</td>\n",
       "      <td>Method of forming polycrystalline semiconducto...</td>\n",
       "    </tr>\n",
       "    <tr>\n",
       "      <td>3</td>\n",
       "      <td>Electric heating</td>\n",
       "      <td>4214918</td>\n",
       "      <td>Method of forming polycrystalline semiconducto...</td>\n",
       "    </tr>\n",
       "    <tr>\n",
       "      <td>4</td>\n",
       "      <td>Active solid-state devices (e.g., transistors,...</td>\n",
       "      <td>4214918</td>\n",
       "      <td>Method of forming polycrystalline semiconducto...</td>\n",
       "    </tr>\n",
       "  </tbody>\n",
       "</table>\n",
       "</div>"
      ],
      "text/plain": [
       "                                uspc_mainclass_title patent_id  \\\n",
       "0                                       Cryptography   4200770   \n",
       "1  Electrical computers and digital processing sy...   4200770   \n",
       "2                                    Metal treatment   4214918   \n",
       "3                                   Electric heating   4214918   \n",
       "4  Active solid-state devices (e.g., transistors,...   4214918   \n",
       "\n",
       "                                        patent_title  \n",
       "0                 Cryptographic apparatus and method  \n",
       "1                 Cryptographic apparatus and method  \n",
       "2  Method of forming polycrystalline semiconducto...  \n",
       "3  Method of forming polycrystalline semiconducto...  \n",
       "4  Method of forming polycrystalline semiconducto...  "
      ]
     },
     "execution_count": 96,
     "metadata": {},
     "output_type": "execute_result"
    }
   ],
   "source": [
    "json_normalize(response['patents'], record_path='uspcs', meta=['patent_id','patent_title']).head()"
   ]
  },
  {
   "cell_type": "code",
   "execution_count": 97,
   "metadata": {},
   "outputs": [],
   "source": [
    "patent_class = json_normalize(response['patents'], record_path='uspcs', meta=['patent_id','patent_title'])"
   ]
  },
  {
   "cell_type": "markdown",
   "metadata": {},
   "source": [
    "Now we can merge the two tables on `patent_id` and `patent_title` to get a complete table with the application date and the patent class."
   ]
  },
  {
   "cell_type": "code",
   "execution_count": 98,
   "metadata": {},
   "outputs": [],
   "source": [
    "df = patent_class.merge(patent_app_date,on=['patent_id','patent_title'])"
   ]
  },
  {
   "cell_type": "code",
   "execution_count": 99,
   "metadata": {},
   "outputs": [
    {
     "data": {
      "text/html": [
       "<div>\n",
       "<style scoped>\n",
       "    .dataframe tbody tr th:only-of-type {\n",
       "        vertical-align: middle;\n",
       "    }\n",
       "\n",
       "    .dataframe tbody tr th {\n",
       "        vertical-align: top;\n",
       "    }\n",
       "\n",
       "    .dataframe thead th {\n",
       "        text-align: right;\n",
       "    }\n",
       "</style>\n",
       "<table border=\"1\" class=\"dataframe\">\n",
       "  <thead>\n",
       "    <tr style=\"text-align: right;\">\n",
       "      <th></th>\n",
       "      <th>uspc_mainclass_title</th>\n",
       "      <th>patent_id</th>\n",
       "      <th>patent_title</th>\n",
       "      <th>app_date</th>\n",
       "      <th>app_id</th>\n",
       "    </tr>\n",
       "  </thead>\n",
       "  <tbody>\n",
       "    <tr>\n",
       "      <td>0</td>\n",
       "      <td>Cryptography</td>\n",
       "      <td>4200770</td>\n",
       "      <td>Cryptographic apparatus and method</td>\n",
       "      <td>1977-09-06</td>\n",
       "      <td>05/830754</td>\n",
       "    </tr>\n",
       "    <tr>\n",
       "      <td>1</td>\n",
       "      <td>Electrical computers and digital processing sy...</td>\n",
       "      <td>4200770</td>\n",
       "      <td>Cryptographic apparatus and method</td>\n",
       "      <td>1977-09-06</td>\n",
       "      <td>05/830754</td>\n",
       "    </tr>\n",
       "    <tr>\n",
       "      <td>2</td>\n",
       "      <td>Metal treatment</td>\n",
       "      <td>4214918</td>\n",
       "      <td>Method of forming polycrystalline semiconducto...</td>\n",
       "      <td>1978-10-12</td>\n",
       "      <td>05/950828</td>\n",
       "    </tr>\n",
       "    <tr>\n",
       "      <td>3</td>\n",
       "      <td>Electric heating</td>\n",
       "      <td>4214918</td>\n",
       "      <td>Method of forming polycrystalline semiconducto...</td>\n",
       "      <td>1978-10-12</td>\n",
       "      <td>05/950828</td>\n",
       "    </tr>\n",
       "    <tr>\n",
       "      <td>4</td>\n",
       "      <td>Active solid-state devices (e.g., transistors,...</td>\n",
       "      <td>4214918</td>\n",
       "      <td>Method of forming polycrystalline semiconducto...</td>\n",
       "      <td>1978-10-12</td>\n",
       "      <td>05/950828</td>\n",
       "    </tr>\n",
       "    <tr>\n",
       "      <td>5</td>\n",
       "      <td>Coating processes</td>\n",
       "      <td>4214918</td>\n",
       "      <td>Method of forming polycrystalline semiconducto...</td>\n",
       "      <td>1978-10-12</td>\n",
       "      <td>05/950828</td>\n",
       "    </tr>\n",
       "    <tr>\n",
       "      <td>6</td>\n",
       "      <td>Semiconductor device manufacturing: process</td>\n",
       "      <td>4214918</td>\n",
       "      <td>Method of forming polycrystalline semiconducto...</td>\n",
       "      <td>1978-10-12</td>\n",
       "      <td>05/950828</td>\n",
       "    </tr>\n",
       "    <tr>\n",
       "      <td>7</td>\n",
       "      <td>Active solid-state devices (e.g., transistors,...</td>\n",
       "      <td>4233671</td>\n",
       "      <td>Read only memory and integrated circuit and me...</td>\n",
       "      <td>1979-01-05</td>\n",
       "      <td>06/001360</td>\n",
       "    </tr>\n",
       "    <tr>\n",
       "      <td>8</td>\n",
       "      <td>Miscellaneous active electrical nonlinear devi...</td>\n",
       "      <td>4233671</td>\n",
       "      <td>Read only memory and integrated circuit and me...</td>\n",
       "      <td>1979-01-05</td>\n",
       "      <td>06/001360</td>\n",
       "    </tr>\n",
       "    <tr>\n",
       "      <td>9</td>\n",
       "      <td>Static information storage and retrieval</td>\n",
       "      <td>4233671</td>\n",
       "      <td>Read only memory and integrated circuit and me...</td>\n",
       "      <td>1979-01-05</td>\n",
       "      <td>06/001360</td>\n",
       "    </tr>\n",
       "    <tr>\n",
       "      <td>10</td>\n",
       "      <td>Semiconductor device manufacturing: process</td>\n",
       "      <td>4233671</td>\n",
       "      <td>Read only memory and integrated circuit and me...</td>\n",
       "      <td>1979-01-05</td>\n",
       "      <td>06/001360</td>\n",
       "    </tr>\n",
       "    <tr>\n",
       "      <td>11</td>\n",
       "      <td>Batteries:  thermoelectric and photoelectric</td>\n",
       "      <td>4234352</td>\n",
       "      <td>Thermophotovoltaic converter and cell for use ...</td>\n",
       "      <td>1978-07-26</td>\n",
       "      <td>05/928103</td>\n",
       "    </tr>\n",
       "    <tr>\n",
       "      <td>12</td>\n",
       "      <td>Active solid-state devices (e.g., transistors,...</td>\n",
       "      <td>4234352</td>\n",
       "      <td>Thermophotovoltaic converter and cell for use ...</td>\n",
       "      <td>1978-07-26</td>\n",
       "      <td>05/928103</td>\n",
       "    </tr>\n",
       "    <tr>\n",
       "      <td>13</td>\n",
       "      <td>Compositions</td>\n",
       "      <td>4325611</td>\n",
       "      <td>Electrochromic material and electro-optical di...</td>\n",
       "      <td>1979-12-26</td>\n",
       "      <td>06/106547</td>\n",
       "    </tr>\n",
       "    <tr>\n",
       "      <td>14</td>\n",
       "      <td>Optical: systems and elements</td>\n",
       "      <td>4325611</td>\n",
       "      <td>Electrochromic material and electro-optical di...</td>\n",
       "      <td>1979-12-26</td>\n",
       "      <td>06/106547</td>\n",
       "    </tr>\n",
       "    <tr>\n",
       "      <td>15</td>\n",
       "      <td>Communications:  electrical</td>\n",
       "      <td>4379697</td>\n",
       "      <td>Stimulator array</td>\n",
       "      <td>1981-10-16</td>\n",
       "      <td>06/312094</td>\n",
       "    </tr>\n",
       "    <tr>\n",
       "      <td>16</td>\n",
       "      <td>Education and demonstration</td>\n",
       "      <td>4379697</td>\n",
       "      <td>Stimulator array</td>\n",
       "      <td>1981-10-16</td>\n",
       "      <td>06/312094</td>\n",
       "    </tr>\n",
       "    <tr>\n",
       "      <td>17</td>\n",
       "      <td>Coherent light generators</td>\n",
       "      <td>4380072</td>\n",
       "      <td>XUV Laser and method</td>\n",
       "      <td>1980-12-22</td>\n",
       "      <td>06/218781</td>\n",
       "    </tr>\n",
       "    <tr>\n",
       "      <td>18</td>\n",
       "      <td>Chemistry:  electrical and wave energy</td>\n",
       "      <td>4404068</td>\n",
       "      <td>Solid state method for synthesis reactions</td>\n",
       "      <td>1981-04-29</td>\n",
       "      <td>06/258656</td>\n",
       "    </tr>\n",
       "    <tr>\n",
       "      <td>19</td>\n",
       "      <td>Electrolysis:  processes, compositions used th...</td>\n",
       "      <td>4404068</td>\n",
       "      <td>Solid state method for synthesis reactions</td>\n",
       "      <td>1981-04-29</td>\n",
       "      <td>06/258656</td>\n",
       "    </tr>\n",
       "    <tr>\n",
       "      <td>20</td>\n",
       "      <td>Chemistry of hydrocarbon compounds</td>\n",
       "      <td>4404068</td>\n",
       "      <td>Solid state method for synthesis reactions</td>\n",
       "      <td>1981-04-29</td>\n",
       "      <td>06/258656</td>\n",
       "    </tr>\n",
       "    <tr>\n",
       "      <td>21</td>\n",
       "      <td>Chemistry: molecular biology and microbiology</td>\n",
       "      <td>4442206</td>\n",
       "      <td>Method of using isotropic, porous-wall polymer...</td>\n",
       "      <td>1983-05-04</td>\n",
       "      <td>06/489609</td>\n",
       "    </tr>\n",
       "    <tr>\n",
       "      <td>22</td>\n",
       "      <td>Chemistry:  natural resins or derivatives; pep...</td>\n",
       "      <td>4442206</td>\n",
       "      <td>Method of using isotropic, porous-wall polymer...</td>\n",
       "      <td>1983-05-04</td>\n",
       "      <td>06/489609</td>\n",
       "    </tr>\n",
       "    <tr>\n",
       "      <td>23</td>\n",
       "      <td>Electrical resistors</td>\n",
       "      <td>4471647</td>\n",
       "      <td>Gas chromatography system and detector and method</td>\n",
       "      <td>1982-03-22</td>\n",
       "      <td>06/360414</td>\n",
       "    </tr>\n",
       "    <tr>\n",
       "      <td>24</td>\n",
       "      <td>Thermal measuring and testing</td>\n",
       "      <td>4471647</td>\n",
       "      <td>Gas chromatography system and detector and method</td>\n",
       "      <td>1982-03-22</td>\n",
       "      <td>06/360414</td>\n",
       "    </tr>\n",
       "    <tr>\n",
       "      <td>25</td>\n",
       "      <td>Measuring and testing</td>\n",
       "      <td>4471647</td>\n",
       "      <td>Gas chromatography system and detector and method</td>\n",
       "      <td>1982-03-22</td>\n",
       "      <td>06/360414</td>\n",
       "    </tr>\n",
       "    <tr>\n",
       "      <td>26</td>\n",
       "      <td>Electrical generator or motor structure</td>\n",
       "      <td>4491760</td>\n",
       "      <td>Force sensing polymer piezoelectric transducer...</td>\n",
       "      <td>1983-03-29</td>\n",
       "      <td>06/480025</td>\n",
       "    </tr>\n",
       "    <tr>\n",
       "      <td>27</td>\n",
       "      <td>Measuring and testing</td>\n",
       "      <td>4491760</td>\n",
       "      <td>Force sensing polymer piezoelectric transducer...</td>\n",
       "      <td>1983-03-29</td>\n",
       "      <td>06/480025</td>\n",
       "    </tr>\n",
       "    <tr>\n",
       "      <td>28</td>\n",
       "      <td>Multiplex communications</td>\n",
       "      <td>4503533</td>\n",
       "      <td>Local area communication network utilizing a r...</td>\n",
       "      <td>1981-08-20</td>\n",
       "      <td>06/294745</td>\n",
       "    </tr>\n",
       "    <tr>\n",
       "      <td>29</td>\n",
       "      <td>Television</td>\n",
       "      <td>4662379</td>\n",
       "      <td>Coronary artery imaging system using gated tom...</td>\n",
       "      <td>1986-08-27</td>\n",
       "      <td>06/902086</td>\n",
       "    </tr>\n",
       "    <tr>\n",
       "      <td>30</td>\n",
       "      <td>X-ray or gamma ray systems or devices</td>\n",
       "      <td>4662379</td>\n",
       "      <td>Coronary artery imaging system using gated tom...</td>\n",
       "      <td>1986-08-27</td>\n",
       "      <td>06/902086</td>\n",
       "    </tr>\n",
       "    <tr>\n",
       "      <td>31</td>\n",
       "      <td>Surgery</td>\n",
       "      <td>4662379</td>\n",
       "      <td>Coronary artery imaging system using gated tom...</td>\n",
       "      <td>1986-08-27</td>\n",
       "      <td>06/902086</td>\n",
       "    </tr>\n",
       "    <tr>\n",
       "      <td>32</td>\n",
       "      <td>Error detection/correction and fault detection...</td>\n",
       "      <td>4665523</td>\n",
       "      <td>Method and means for error detection and corre...</td>\n",
       "      <td>1984-02-15</td>\n",
       "      <td>06/580470</td>\n",
       "    </tr>\n",
       "    <tr>\n",
       "      <td>33</td>\n",
       "      <td>Metal treatment</td>\n",
       "      <td>4665610</td>\n",
       "      <td>Method of making a semiconductor transducer ha...</td>\n",
       "      <td>1985-04-22</td>\n",
       "      <td>06/725984</td>\n",
       "    </tr>\n",
       "    <tr>\n",
       "      <td>34</td>\n",
       "      <td>Active solid-state devices (e.g., transistors,...</td>\n",
       "      <td>4665610</td>\n",
       "      <td>Method of making a semiconductor transducer ha...</td>\n",
       "      <td>1985-04-22</td>\n",
       "      <td>06/725984</td>\n",
       "    </tr>\n",
       "    <tr>\n",
       "      <td>35</td>\n",
       "      <td>Semiconductor device manufacturing: process</td>\n",
       "      <td>4665610</td>\n",
       "      <td>Method of making a semiconductor transducer ha...</td>\n",
       "      <td>1985-04-22</td>\n",
       "      <td>06/725984</td>\n",
       "    </tr>\n",
       "    <tr>\n",
       "      <td>36</td>\n",
       "      <td>Measuring and testing</td>\n",
       "      <td>4665610</td>\n",
       "      <td>Method of making a semiconductor transducer ha...</td>\n",
       "      <td>1985-04-22</td>\n",
       "      <td>06/725984</td>\n",
       "    </tr>\n",
       "    <tr>\n",
       "      <td>37</td>\n",
       "      <td>Optics:  measuring and testing</td>\n",
       "      <td>4666308</td>\n",
       "      <td>Method and apparatus for non-destructive testi...</td>\n",
       "      <td>1984-10-30</td>\n",
       "      <td>06/666354</td>\n",
       "    </tr>\n",
       "    <tr>\n",
       "      <td>38</td>\n",
       "      <td>Optical: systems and elements</td>\n",
       "      <td>4666308</td>\n",
       "      <td>Method and apparatus for non-destructive testi...</td>\n",
       "      <td>1984-10-30</td>\n",
       "      <td>06/666354</td>\n",
       "    </tr>\n",
       "    <tr>\n",
       "      <td>39</td>\n",
       "      <td>Electricity:  measuring and testing</td>\n",
       "      <td>4672319</td>\n",
       "      <td>Multiple pulse excitation in NMR imaging</td>\n",
       "      <td>1984-09-19</td>\n",
       "      <td>06/652139</td>\n",
       "    </tr>\n",
       "    <tr>\n",
       "      <td>40</td>\n",
       "      <td>Optical: systems and elements</td>\n",
       "      <td>4674824</td>\n",
       "      <td>System for enhancement of optical features</td>\n",
       "      <td>1985-06-14</td>\n",
       "      <td>06/745312</td>\n",
       "    </tr>\n",
       "    <tr>\n",
       "      <td>41</td>\n",
       "      <td>Electricity:  measuring and testing</td>\n",
       "      <td>4681449</td>\n",
       "      <td>High speed testing of electronic circuits by e...</td>\n",
       "      <td>1984-09-07</td>\n",
       "      <td>06/648456</td>\n",
       "    </tr>\n",
       "    <tr>\n",
       "      <td>42</td>\n",
       "      <td>Optics:  measuring and testing</td>\n",
       "      <td>4681449</td>\n",
       "      <td>High speed testing of electronic circuits by e...</td>\n",
       "      <td>1984-09-07</td>\n",
       "      <td>06/648456</td>\n",
       "    </tr>\n",
       "    <tr>\n",
       "      <td>43</td>\n",
       "      <td>Radiant energy</td>\n",
       "      <td>4699513</td>\n",
       "      <td>Distributed sensor and method using coherence ...</td>\n",
       "      <td>1985-05-28</td>\n",
       "      <td>06/738678</td>\n",
       "    </tr>\n",
       "    <tr>\n",
       "      <td>44</td>\n",
       "      <td>Optics:  measuring and testing</td>\n",
       "      <td>4699513</td>\n",
       "      <td>Distributed sensor and method using coherence ...</td>\n",
       "      <td>1985-05-28</td>\n",
       "      <td>06/738678</td>\n",
       "    </tr>\n",
       "    <tr>\n",
       "      <td>45</td>\n",
       "      <td>Electronic funds transfer</td>\n",
       "      <td>4699513</td>\n",
       "      <td>Distributed sensor and method using coherence ...</td>\n",
       "      <td>1985-05-28</td>\n",
       "      <td>06/738678</td>\n",
       "    </tr>\n",
       "    <tr>\n",
       "      <td>46</td>\n",
       "      <td>Optical: systems and elements</td>\n",
       "      <td>4700150</td>\n",
       "      <td>External laser frequency stabilizer</td>\n",
       "      <td>1985-06-14</td>\n",
       "      <td>06/745309</td>\n",
       "    </tr>\n",
       "    <tr>\n",
       "      <td>47</td>\n",
       "      <td>Coherent light generators</td>\n",
       "      <td>4700150</td>\n",
       "      <td>External laser frequency stabilizer</td>\n",
       "      <td>1985-06-14</td>\n",
       "      <td>06/745309</td>\n",
       "    </tr>\n",
       "    <tr>\n",
       "      <td>48</td>\n",
       "      <td>Optical: systems and elements</td>\n",
       "      <td>4701006</td>\n",
       "      <td>Optical-digital hologram recording</td>\n",
       "      <td>1985-02-20</td>\n",
       "      <td>06/703521</td>\n",
       "    </tr>\n",
       "    <tr>\n",
       "      <td>49</td>\n",
       "      <td>Optics:  measuring and testing</td>\n",
       "      <td>4707136</td>\n",
       "      <td>Gated fiber optic rotation sensor with lineari...</td>\n",
       "      <td>1984-02-17</td>\n",
       "      <td>06/581303</td>\n",
       "    </tr>\n",
       "    <tr>\n",
       "      <td>50</td>\n",
       "      <td>Electricity:  measuring and testing</td>\n",
       "      <td>4718424</td>\n",
       "      <td>NMR imaging of blood flow by moment variation ...</td>\n",
       "      <td>1986-08-07</td>\n",
       "      <td>06/894318</td>\n",
       "    </tr>\n",
       "    <tr>\n",
       "      <td>51</td>\n",
       "      <td>Surgery</td>\n",
       "      <td>4718424</td>\n",
       "      <td>NMR imaging of blood flow by moment variation ...</td>\n",
       "      <td>1986-08-07</td>\n",
       "      <td>06/894318</td>\n",
       "    </tr>\n",
       "    <tr>\n",
       "      <td>52</td>\n",
       "      <td>Optics:  measuring and testing</td>\n",
       "      <td>4728192</td>\n",
       "      <td>Gated fiber optic rotation sensor with extende...</td>\n",
       "      <td>1984-02-17</td>\n",
       "      <td>06/581304</td>\n",
       "    </tr>\n",
       "  </tbody>\n",
       "</table>\n",
       "</div>"
      ],
      "text/plain": [
       "                                 uspc_mainclass_title patent_id  \\\n",
       "0                                        Cryptography   4200770   \n",
       "1   Electrical computers and digital processing sy...   4200770   \n",
       "2                                     Metal treatment   4214918   \n",
       "3                                    Electric heating   4214918   \n",
       "4   Active solid-state devices (e.g., transistors,...   4214918   \n",
       "5                                   Coating processes   4214918   \n",
       "6         Semiconductor device manufacturing: process   4214918   \n",
       "7   Active solid-state devices (e.g., transistors,...   4233671   \n",
       "8   Miscellaneous active electrical nonlinear devi...   4233671   \n",
       "9            Static information storage and retrieval   4233671   \n",
       "10        Semiconductor device manufacturing: process   4233671   \n",
       "11       Batteries:  thermoelectric and photoelectric   4234352   \n",
       "12  Active solid-state devices (e.g., transistors,...   4234352   \n",
       "13                                       Compositions   4325611   \n",
       "14                      Optical: systems and elements   4325611   \n",
       "15                        Communications:  electrical   4379697   \n",
       "16                        Education and demonstration   4379697   \n",
       "17                          Coherent light generators   4380072   \n",
       "18             Chemistry:  electrical and wave energy   4404068   \n",
       "19  Electrolysis:  processes, compositions used th...   4404068   \n",
       "20                 Chemistry of hydrocarbon compounds   4404068   \n",
       "21      Chemistry: molecular biology and microbiology   4442206   \n",
       "22  Chemistry:  natural resins or derivatives; pep...   4442206   \n",
       "23                               Electrical resistors   4471647   \n",
       "24                      Thermal measuring and testing   4471647   \n",
       "25                              Measuring and testing   4471647   \n",
       "26            Electrical generator or motor structure   4491760   \n",
       "27                              Measuring and testing   4491760   \n",
       "28                           Multiplex communications   4503533   \n",
       "29                                         Television   4662379   \n",
       "30              X-ray or gamma ray systems or devices   4662379   \n",
       "31                                            Surgery   4662379   \n",
       "32  Error detection/correction and fault detection...   4665523   \n",
       "33                                    Metal treatment   4665610   \n",
       "34  Active solid-state devices (e.g., transistors,...   4665610   \n",
       "35        Semiconductor device manufacturing: process   4665610   \n",
       "36                              Measuring and testing   4665610   \n",
       "37                     Optics:  measuring and testing   4666308   \n",
       "38                      Optical: systems and elements   4666308   \n",
       "39                Electricity:  measuring and testing   4672319   \n",
       "40                      Optical: systems and elements   4674824   \n",
       "41                Electricity:  measuring and testing   4681449   \n",
       "42                     Optics:  measuring and testing   4681449   \n",
       "43                                     Radiant energy   4699513   \n",
       "44                     Optics:  measuring and testing   4699513   \n",
       "45                          Electronic funds transfer   4699513   \n",
       "46                      Optical: systems and elements   4700150   \n",
       "47                          Coherent light generators   4700150   \n",
       "48                      Optical: systems and elements   4701006   \n",
       "49                     Optics:  measuring and testing   4707136   \n",
       "50                Electricity:  measuring and testing   4718424   \n",
       "51                                            Surgery   4718424   \n",
       "52                     Optics:  measuring and testing   4728192   \n",
       "\n",
       "                                         patent_title    app_date     app_id  \n",
       "0                  Cryptographic apparatus and method  1977-09-06  05/830754  \n",
       "1                  Cryptographic apparatus and method  1977-09-06  05/830754  \n",
       "2   Method of forming polycrystalline semiconducto...  1978-10-12  05/950828  \n",
       "3   Method of forming polycrystalline semiconducto...  1978-10-12  05/950828  \n",
       "4   Method of forming polycrystalline semiconducto...  1978-10-12  05/950828  \n",
       "5   Method of forming polycrystalline semiconducto...  1978-10-12  05/950828  \n",
       "6   Method of forming polycrystalline semiconducto...  1978-10-12  05/950828  \n",
       "7   Read only memory and integrated circuit and me...  1979-01-05  06/001360  \n",
       "8   Read only memory and integrated circuit and me...  1979-01-05  06/001360  \n",
       "9   Read only memory and integrated circuit and me...  1979-01-05  06/001360  \n",
       "10  Read only memory and integrated circuit and me...  1979-01-05  06/001360  \n",
       "11  Thermophotovoltaic converter and cell for use ...  1978-07-26  05/928103  \n",
       "12  Thermophotovoltaic converter and cell for use ...  1978-07-26  05/928103  \n",
       "13  Electrochromic material and electro-optical di...  1979-12-26  06/106547  \n",
       "14  Electrochromic material and electro-optical di...  1979-12-26  06/106547  \n",
       "15                                   Stimulator array  1981-10-16  06/312094  \n",
       "16                                   Stimulator array  1981-10-16  06/312094  \n",
       "17                               XUV Laser and method  1980-12-22  06/218781  \n",
       "18         Solid state method for synthesis reactions  1981-04-29  06/258656  \n",
       "19         Solid state method for synthesis reactions  1981-04-29  06/258656  \n",
       "20         Solid state method for synthesis reactions  1981-04-29  06/258656  \n",
       "21  Method of using isotropic, porous-wall polymer...  1983-05-04  06/489609  \n",
       "22  Method of using isotropic, porous-wall polymer...  1983-05-04  06/489609  \n",
       "23  Gas chromatography system and detector and method  1982-03-22  06/360414  \n",
       "24  Gas chromatography system and detector and method  1982-03-22  06/360414  \n",
       "25  Gas chromatography system and detector and method  1982-03-22  06/360414  \n",
       "26  Force sensing polymer piezoelectric transducer...  1983-03-29  06/480025  \n",
       "27  Force sensing polymer piezoelectric transducer...  1983-03-29  06/480025  \n",
       "28  Local area communication network utilizing a r...  1981-08-20  06/294745  \n",
       "29  Coronary artery imaging system using gated tom...  1986-08-27  06/902086  \n",
       "30  Coronary artery imaging system using gated tom...  1986-08-27  06/902086  \n",
       "31  Coronary artery imaging system using gated tom...  1986-08-27  06/902086  \n",
       "32  Method and means for error detection and corre...  1984-02-15  06/580470  \n",
       "33  Method of making a semiconductor transducer ha...  1985-04-22  06/725984  \n",
       "34  Method of making a semiconductor transducer ha...  1985-04-22  06/725984  \n",
       "35  Method of making a semiconductor transducer ha...  1985-04-22  06/725984  \n",
       "36  Method of making a semiconductor transducer ha...  1985-04-22  06/725984  \n",
       "37  Method and apparatus for non-destructive testi...  1984-10-30  06/666354  \n",
       "38  Method and apparatus for non-destructive testi...  1984-10-30  06/666354  \n",
       "39           Multiple pulse excitation in NMR imaging  1984-09-19  06/652139  \n",
       "40         System for enhancement of optical features  1985-06-14  06/745312  \n",
       "41  High speed testing of electronic circuits by e...  1984-09-07  06/648456  \n",
       "42  High speed testing of electronic circuits by e...  1984-09-07  06/648456  \n",
       "43  Distributed sensor and method using coherence ...  1985-05-28  06/738678  \n",
       "44  Distributed sensor and method using coherence ...  1985-05-28  06/738678  \n",
       "45  Distributed sensor and method using coherence ...  1985-05-28  06/738678  \n",
       "46                External laser frequency stabilizer  1985-06-14  06/745309  \n",
       "47                External laser frequency stabilizer  1985-06-14  06/745309  \n",
       "48                 Optical-digital hologram recording  1985-02-20  06/703521  \n",
       "49  Gated fiber optic rotation sensor with lineari...  1984-02-17  06/581303  \n",
       "50  NMR imaging of blood flow by moment variation ...  1986-08-07  06/894318  \n",
       "51  NMR imaging of blood flow by moment variation ...  1986-08-07  06/894318  \n",
       "52  Gated fiber optic rotation sensor with extende...  1984-02-17  06/581304  "
      ]
     },
     "execution_count": 99,
     "metadata": {},
     "output_type": "execute_result"
    }
   ],
   "source": [
    "df"
   ]
  },
  {
   "cell_type": "markdown",
   "metadata": {},
   "source": [
    "### <span style=\"color:red\">Checkpoint 2: Add other fields</span>"
   ]
  },
  {
   "cell_type": "markdown",
   "metadata": {},
   "source": [
    "Try adding other fields of interest. Go to the Patents Endpoint (http://www.patentsview.org/api/patent.html) and pick other 2 fields of interest to add to the query and get the results."
   ]
  },
  {
   "cell_type": "code",
   "execution_count": 100,
   "metadata": {},
   "outputs": [],
   "source": [
    "url_fields = url + '&f=[\"patent_id\",\"patent_title\",\"assignee_city\",\"assignee_state\",\"assignee_country\",\"assignee_first_name\",\"assignee_last_name\",\"app_date\"]'"
   ]
  },
  {
   "cell_type": "code",
   "execution_count": 101,
   "metadata": {},
   "outputs": [
    {
     "data": {
      "text/plain": [
       "200"
      ]
     },
     "execution_count": 101,
     "metadata": {},
     "output_type": "execute_result"
    }
   ],
   "source": [
    "r = requests.get(url_fields)  # Get response from the URL\n",
    "r.status_code  # Check the status code"
   ]
  },
  {
   "cell_type": "code",
   "execution_count": 102,
   "metadata": {},
   "outputs": [],
   "source": [
    "response = r.json()  # Convert response to JSON format"
   ]
  },
  {
   "cell_type": "code",
   "execution_count": 103,
   "metadata": {},
   "outputs": [
    {
     "data": {
      "text/html": [
       "<div>\n",
       "<style scoped>\n",
       "    .dataframe tbody tr th:only-of-type {\n",
       "        vertical-align: middle;\n",
       "    }\n",
       "\n",
       "    .dataframe tbody tr th {\n",
       "        vertical-align: top;\n",
       "    }\n",
       "\n",
       "    .dataframe thead th {\n",
       "        text-align: right;\n",
       "    }\n",
       "</style>\n",
       "<table border=\"1\" class=\"dataframe\">\n",
       "  <thead>\n",
       "    <tr style=\"text-align: right;\">\n",
       "      <th></th>\n",
       "      <th>patents</th>\n",
       "      <th>count</th>\n",
       "      <th>total_patent_count</th>\n",
       "    </tr>\n",
       "  </thead>\n",
       "  <tbody>\n",
       "    <tr>\n",
       "      <td>0</td>\n",
       "      <td>[{'patent_id': '4200770', 'patent_title': 'Cry...</td>\n",
       "      <td>25</td>\n",
       "      <td>143</td>\n",
       "    </tr>\n",
       "  </tbody>\n",
       "</table>\n",
       "</div>"
      ],
      "text/plain": [
       "                                             patents  count  \\\n",
       "0  [{'patent_id': '4200770', 'patent_title': 'Cry...     25   \n",
       "\n",
       "   total_patent_count  \n",
       "0                 143  "
      ]
     },
     "execution_count": 103,
     "metadata": {},
     "output_type": "execute_result"
    }
   ],
   "source": [
    "json_normalize(response) "
   ]
  },
  {
   "cell_type": "code",
   "execution_count": 104,
   "metadata": {},
   "outputs": [
    {
     "data": {
      "text/html": [
       "<div>\n",
       "<style scoped>\n",
       "    .dataframe tbody tr th:only-of-type {\n",
       "        vertical-align: middle;\n",
       "    }\n",
       "\n",
       "    .dataframe tbody tr th {\n",
       "        vertical-align: top;\n",
       "    }\n",
       "\n",
       "    .dataframe thead th {\n",
       "        text-align: right;\n",
       "    }\n",
       "</style>\n",
       "<table border=\"1\" class=\"dataframe\">\n",
       "  <thead>\n",
       "    <tr style=\"text-align: right;\">\n",
       "      <th></th>\n",
       "      <th>patent_id</th>\n",
       "      <th>patent_title</th>\n",
       "      <th>assignees</th>\n",
       "      <th>applications</th>\n",
       "    </tr>\n",
       "  </thead>\n",
       "  <tbody>\n",
       "    <tr>\n",
       "      <td>0</td>\n",
       "      <td>4200770</td>\n",
       "      <td>Cryptographic apparatus and method</td>\n",
       "      <td>[{'assignee_city': 'Palo Alto', 'assignee_stat...</td>\n",
       "      <td>[{'app_date': '1977-09-06', 'app_id': '05/8307...</td>\n",
       "    </tr>\n",
       "    <tr>\n",
       "      <td>1</td>\n",
       "      <td>4214918</td>\n",
       "      <td>Method of forming polycrystalline semiconducto...</td>\n",
       "      <td>[{'assignee_city': 'Stanford', 'assignee_state...</td>\n",
       "      <td>[{'app_date': '1978-10-12', 'app_id': '05/9508...</td>\n",
       "    </tr>\n",
       "    <tr>\n",
       "      <td>2</td>\n",
       "      <td>4233671</td>\n",
       "      <td>Read only memory and integrated circuit and me...</td>\n",
       "      <td>[{'assignee_city': 'Stanford', 'assignee_state...</td>\n",
       "      <td>[{'app_date': '1979-01-05', 'app_id': '06/0013...</td>\n",
       "    </tr>\n",
       "    <tr>\n",
       "      <td>3</td>\n",
       "      <td>4234352</td>\n",
       "      <td>Thermophotovoltaic converter and cell for use ...</td>\n",
       "      <td>[{'assignee_city': 'Stanford', 'assignee_state...</td>\n",
       "      <td>[{'app_date': '1978-07-26', 'app_id': '05/9281...</td>\n",
       "    </tr>\n",
       "    <tr>\n",
       "      <td>4</td>\n",
       "      <td>4325611</td>\n",
       "      <td>Electrochromic material and electro-optical di...</td>\n",
       "      <td>[{'assignee_city': 'Stanford', 'assignee_state...</td>\n",
       "      <td>[{'app_date': '1979-12-26', 'app_id': '06/1065...</td>\n",
       "    </tr>\n",
       "  </tbody>\n",
       "</table>\n",
       "</div>"
      ],
      "text/plain": [
       "  patent_id                                       patent_title  \\\n",
       "0   4200770                 Cryptographic apparatus and method   \n",
       "1   4214918  Method of forming polycrystalline semiconducto...   \n",
       "2   4233671  Read only memory and integrated circuit and me...   \n",
       "3   4234352  Thermophotovoltaic converter and cell for use ...   \n",
       "4   4325611  Electrochromic material and electro-optical di...   \n",
       "\n",
       "                                           assignees  \\\n",
       "0  [{'assignee_city': 'Palo Alto', 'assignee_stat...   \n",
       "1  [{'assignee_city': 'Stanford', 'assignee_state...   \n",
       "2  [{'assignee_city': 'Stanford', 'assignee_state...   \n",
       "3  [{'assignee_city': 'Stanford', 'assignee_state...   \n",
       "4  [{'assignee_city': 'Stanford', 'assignee_state...   \n",
       "\n",
       "                                        applications  \n",
       "0  [{'app_date': '1977-09-06', 'app_id': '05/8307...  \n",
       "1  [{'app_date': '1978-10-12', 'app_id': '05/9508...  \n",
       "2  [{'app_date': '1979-01-05', 'app_id': '06/0013...  \n",
       "3  [{'app_date': '1978-07-26', 'app_id': '05/9281...  \n",
       "4  [{'app_date': '1979-12-26', 'app_id': '06/1065...  "
      ]
     },
     "execution_count": 104,
     "metadata": {},
     "output_type": "execute_result"
    }
   ],
   "source": [
    "json_normalize(response['patents']).head()"
   ]
  },
  {
   "cell_type": "code",
   "execution_count": 105,
   "metadata": {},
   "outputs": [
    {
     "data": {
      "text/html": [
       "<div>\n",
       "<style scoped>\n",
       "    .dataframe tbody tr th:only-of-type {\n",
       "        vertical-align: middle;\n",
       "    }\n",
       "\n",
       "    .dataframe tbody tr th {\n",
       "        vertical-align: top;\n",
       "    }\n",
       "\n",
       "    .dataframe thead th {\n",
       "        text-align: right;\n",
       "    }\n",
       "</style>\n",
       "<table border=\"1\" class=\"dataframe\">\n",
       "  <thead>\n",
       "    <tr style=\"text-align: right;\">\n",
       "      <th></th>\n",
       "      <th>assignee_city</th>\n",
       "      <th>assignee_state</th>\n",
       "      <th>assignee_country</th>\n",
       "      <th>assignee_first_name</th>\n",
       "      <th>assignee_last_name</th>\n",
       "      <th>assignee_key_id</th>\n",
       "      <th>patent_id</th>\n",
       "      <th>patent_title</th>\n",
       "    </tr>\n",
       "  </thead>\n",
       "  <tbody>\n",
       "    <tr>\n",
       "      <td>0</td>\n",
       "      <td>Palo Alto</td>\n",
       "      <td>CA</td>\n",
       "      <td>US</td>\n",
       "      <td>None</td>\n",
       "      <td>None</td>\n",
       "      <td>32068</td>\n",
       "      <td>4200770</td>\n",
       "      <td>Cryptographic apparatus and method</td>\n",
       "    </tr>\n",
       "    <tr>\n",
       "      <td>1</td>\n",
       "      <td>Stanford</td>\n",
       "      <td>CA</td>\n",
       "      <td>US</td>\n",
       "      <td>None</td>\n",
       "      <td>None</td>\n",
       "      <td>32068</td>\n",
       "      <td>4214918</td>\n",
       "      <td>Method of forming polycrystalline semiconducto...</td>\n",
       "    </tr>\n",
       "    <tr>\n",
       "      <td>2</td>\n",
       "      <td>Stanford</td>\n",
       "      <td>CA</td>\n",
       "      <td>US</td>\n",
       "      <td>None</td>\n",
       "      <td>None</td>\n",
       "      <td>32068</td>\n",
       "      <td>4233671</td>\n",
       "      <td>Read only memory and integrated circuit and me...</td>\n",
       "    </tr>\n",
       "    <tr>\n",
       "      <td>3</td>\n",
       "      <td>Stanford</td>\n",
       "      <td>CA</td>\n",
       "      <td>US</td>\n",
       "      <td>None</td>\n",
       "      <td>None</td>\n",
       "      <td>32068</td>\n",
       "      <td>4234352</td>\n",
       "      <td>Thermophotovoltaic converter and cell for use ...</td>\n",
       "    </tr>\n",
       "    <tr>\n",
       "      <td>4</td>\n",
       "      <td>Palo Alto</td>\n",
       "      <td>CA</td>\n",
       "      <td>US</td>\n",
       "      <td>None</td>\n",
       "      <td>None</td>\n",
       "      <td>349585</td>\n",
       "      <td>4234352</td>\n",
       "      <td>Thermophotovoltaic converter and cell for use ...</td>\n",
       "    </tr>\n",
       "  </tbody>\n",
       "</table>\n",
       "</div>"
      ],
      "text/plain": [
       "  assignee_city assignee_state assignee_country assignee_first_name  \\\n",
       "0     Palo Alto             CA               US                None   \n",
       "1      Stanford             CA               US                None   \n",
       "2      Stanford             CA               US                None   \n",
       "3      Stanford             CA               US                None   \n",
       "4     Palo Alto             CA               US                None   \n",
       "\n",
       "  assignee_last_name assignee_key_id patent_id  \\\n",
       "0               None           32068   4200770   \n",
       "1               None           32068   4214918   \n",
       "2               None           32068   4233671   \n",
       "3               None           32068   4234352   \n",
       "4               None          349585   4234352   \n",
       "\n",
       "                                        patent_title  \n",
       "0                 Cryptographic apparatus and method  \n",
       "1  Method of forming polycrystalline semiconducto...  \n",
       "2  Read only memory and integrated circuit and me...  \n",
       "3  Thermophotovoltaic converter and cell for use ...  \n",
       "4  Thermophotovoltaic converter and cell for use ...  "
      ]
     },
     "execution_count": 105,
     "metadata": {},
     "output_type": "execute_result"
    }
   ],
   "source": [
    "patent_assignees = json_normalize(response['patents'], record_path='assignees', meta=['patent_id','patent_title'])\n",
    "patent_assignees.head()"
   ]
  },
  {
   "cell_type": "code",
   "execution_count": 106,
   "metadata": {},
   "outputs": [
    {
     "data": {
      "text/html": [
       "<div>\n",
       "<style scoped>\n",
       "    .dataframe tbody tr th:only-of-type {\n",
       "        vertical-align: middle;\n",
       "    }\n",
       "\n",
       "    .dataframe tbody tr th {\n",
       "        vertical-align: top;\n",
       "    }\n",
       "\n",
       "    .dataframe thead th {\n",
       "        text-align: right;\n",
       "    }\n",
       "</style>\n",
       "<table border=\"1\" class=\"dataframe\">\n",
       "  <thead>\n",
       "    <tr style=\"text-align: right;\">\n",
       "      <th></th>\n",
       "      <th>app_date</th>\n",
       "      <th>app_id</th>\n",
       "      <th>patent_id</th>\n",
       "      <th>patent_title</th>\n",
       "    </tr>\n",
       "  </thead>\n",
       "  <tbody>\n",
       "    <tr>\n",
       "      <td>0</td>\n",
       "      <td>1977-09-06</td>\n",
       "      <td>05/830754</td>\n",
       "      <td>4200770</td>\n",
       "      <td>Cryptographic apparatus and method</td>\n",
       "    </tr>\n",
       "    <tr>\n",
       "      <td>1</td>\n",
       "      <td>1978-10-12</td>\n",
       "      <td>05/950828</td>\n",
       "      <td>4214918</td>\n",
       "      <td>Method of forming polycrystalline semiconducto...</td>\n",
       "    </tr>\n",
       "    <tr>\n",
       "      <td>2</td>\n",
       "      <td>1979-01-05</td>\n",
       "      <td>06/001360</td>\n",
       "      <td>4233671</td>\n",
       "      <td>Read only memory and integrated circuit and me...</td>\n",
       "    </tr>\n",
       "    <tr>\n",
       "      <td>3</td>\n",
       "      <td>1978-07-26</td>\n",
       "      <td>05/928103</td>\n",
       "      <td>4234352</td>\n",
       "      <td>Thermophotovoltaic converter and cell for use ...</td>\n",
       "    </tr>\n",
       "    <tr>\n",
       "      <td>4</td>\n",
       "      <td>1979-12-26</td>\n",
       "      <td>06/106547</td>\n",
       "      <td>4325611</td>\n",
       "      <td>Electrochromic material and electro-optical di...</td>\n",
       "    </tr>\n",
       "  </tbody>\n",
       "</table>\n",
       "</div>"
      ],
      "text/plain": [
       "     app_date     app_id patent_id  \\\n",
       "0  1977-09-06  05/830754   4200770   \n",
       "1  1978-10-12  05/950828   4214918   \n",
       "2  1979-01-05  06/001360   4233671   \n",
       "3  1978-07-26  05/928103   4234352   \n",
       "4  1979-12-26  06/106547   4325611   \n",
       "\n",
       "                                        patent_title  \n",
       "0                 Cryptographic apparatus and method  \n",
       "1  Method of forming polycrystalline semiconducto...  \n",
       "2  Read only memory and integrated circuit and me...  \n",
       "3  Thermophotovoltaic converter and cell for use ...  \n",
       "4  Electrochromic material and electro-optical di...  "
      ]
     },
     "execution_count": 106,
     "metadata": {},
     "output_type": "execute_result"
    }
   ],
   "source": [
    "patent_applications = json_normalize(response['patents'], record_path='applications', meta=['patent_id','patent_title'])\n",
    "patent_applications.head()"
   ]
  },
  {
   "cell_type": "code",
   "execution_count": null,
   "metadata": {},
   "outputs": [],
   "source": [
    "df = patent_class.merge(patent_app_date,on=['patent_id','patent_title'])\n",
    "df"
   ]
  },
  {
   "cell_type": "markdown",
   "metadata": {},
   "source": [
    "## Customize the number of results"
   ]
  },
  {
   "cell_type": "markdown",
   "metadata": {},
   "source": [
    "As you have noticed, by default, only 25 results are returned. To change the number of results returned (for example, 50 results), add the option parameter to the query URL: `&o={\"page\":1,\"per_page\":50}`. To get the second page, specify `&o={\"page\":2,\"per_page\":50)`."
   ]
  },
  {
   "cell_type": "markdown",
   "metadata": {},
   "source": [
    "Let's check the URL defined above."
   ]
  },
  {
   "cell_type": "code",
   "execution_count": null,
   "metadata": {},
   "outputs": [],
   "source": [
    "url_fields"
   ]
  },
  {
   "cell_type": "code",
   "execution_count": null,
   "metadata": {},
   "outputs": [],
   "source": [
    "url_page_1 = url_fields + '&o={\"page\":1,\"per_page\":50}'"
   ]
  },
  {
   "cell_type": "code",
   "execution_count": null,
   "metadata": {},
   "outputs": [],
   "source": [
    "r = requests.get(url_page_1)\n",
    "r.status_code"
   ]
  },
  {
   "cell_type": "code",
   "execution_count": null,
   "metadata": {},
   "outputs": [],
   "source": [
    "response_page_1 = r.json()  # Convert response to JSON format"
   ]
  },
  {
   "cell_type": "markdown",
   "metadata": {},
   "source": [
    "Now the JSON shows 50 results (as noted in the variable `count`)."
   ]
  },
  {
   "cell_type": "code",
   "execution_count": null,
   "metadata": {},
   "outputs": [],
   "source": [
    "response_page_1['count']"
   ]
  },
  {
   "cell_type": "markdown",
   "metadata": {},
   "source": [
    "### <span style=\"color:red\">Checkpoint 3: Customize the number of results</span>"
   ]
  },
  {
   "cell_type": "markdown",
   "metadata": {},
   "source": [
    "Try customizing the number of returned results using the options parameter. \n",
    "\n",
    "**Note**: limit the number of results to no more than 100 during the in-class session, to avoid a heavy simultaneous use of the API (so the queries can run faster)."
   ]
  },
  {
   "cell_type": "code",
   "execution_count": null,
   "metadata": {},
   "outputs": [],
   "source": [
    "# your code here...\n",
    "\n",
    "\n"
   ]
  },
  {
   "cell_type": "markdown",
   "metadata": {},
   "source": [
    "## Optional\n",
    "\n",
    "Please feel free to explore and practice all available options in the API Query Language section of the PatentsView website (http://www.patentsview.org/api/query-language.html)."
   ]
  }
 ],
 "metadata": {
  "hide_input": false,
  "kernelspec": {
   "display_name": "Python 3",
   "language": "python",
   "name": "python3"
  },
  "language_info": {
   "codemirror_mode": {
    "name": "ipython",
    "version": 3
   },
   "file_extension": ".py",
   "mimetype": "text/x-python",
   "name": "python",
   "nbconvert_exporter": "python",
   "pygments_lexer": "ipython3",
   "version": "3.7.4"
  },
  "toc": {
   "base_numbering": 1,
   "nav_menu": {},
   "number_sections": true,
   "sideBar": true,
   "skip_h1_title": true,
   "title_cell": "Table of Contents",
   "title_sidebar": "Contents",
   "toc_cell": true,
   "toc_position": {},
   "toc_section_display": true,
   "toc_window_display": true
  },
  "varInspector": {
   "cols": {
    "lenName": 16,
    "lenType": 16,
    "lenVar": 40
   },
   "kernels_config": {
    "python": {
     "delete_cmd_postfix": "",
     "delete_cmd_prefix": "del ",
     "library": "var_list.py",
     "varRefreshCmd": "print(var_dic_list())"
    },
    "r": {
     "delete_cmd_postfix": ") ",
     "delete_cmd_prefix": "rm(",
     "library": "var_list.r",
     "varRefreshCmd": "cat(var_dic_list()) "
    }
   },
   "types_to_exclude": [
    "module",
    "function",
    "builtin_function_or_method",
    "instance",
    "_Feature"
   ],
   "window_display": false
  }
 },
 "nbformat": 4,
 "nbformat_minor": 4
}
